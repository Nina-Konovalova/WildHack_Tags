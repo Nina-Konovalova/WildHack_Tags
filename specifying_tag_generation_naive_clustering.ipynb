{
  "nbformat": 4,
  "nbformat_minor": 0,
  "metadata": {
    "colab": {
      "name": "specifying_tag_generation_naive_clustering.ipynb",
      "provenance": [],
      "collapsed_sections": []
    },
    "kernelspec": {
      "name": "python3",
      "display_name": "Python 3"
    },
    "language_info": {
      "name": "python"
    }
  },
  "cells": [
    {
      "cell_type": "markdown",
      "metadata": {
        "id": "rvc8xhmchMOq"
      },
      "source": [
        "[![Open In Colab](https://colab.research.google.com/assets/colab-badge.svg)](https://colab.research.google.com/github/Nina-Konovalova/WildHack_Tags/blob/main/specifying_tag_generation_naive_clustering.ipynb)\n"
      ]
    },
    {
      "cell_type": "markdown",
      "metadata": {
        "id": "Aek5AYDAk1rB"
      },
      "source": [
        "##### Installation"
      ]
    },
    {
      "cell_type": "code",
      "metadata": {
        "id": "NF0FsVZVk3vY"
      },
      "source": [
        "! pip install --upgrade spacy\n",
        "! python -m spacy download ru_core_news_lg"
      ],
      "execution_count": null,
      "outputs": []
    },
    {
      "cell_type": "markdown",
      "metadata": {
        "id": "9Nq0Pkw2jvxZ"
      },
      "source": [
        "##### Download"
      ]
    },
    {
      "cell_type": "code",
      "metadata": {
        "colab": {
          "base_uri": "https://localhost:8080/"
        },
        "id": "Lm-pQwymkBsC",
        "outputId": "29ffc405-83c7-4084-edaa-a92b126902e4"
      },
      "source": [
        "!gdown --id 1rzGMDi2KnFwGbWrq1yKnVZeV7s4fe2AU # unique queries from dataset for product 'капри'"
      ],
      "execution_count": 108,
      "outputs": [
        {
          "output_type": "stream",
          "name": "stdout",
          "text": [
            "Downloading...\n",
            "From: https://drive.google.com/uc?id=1rzGMDi2KnFwGbWrq1yKnVZeV7s4fe2AU\n",
            "To: /content/kapri_queries_unique.csv\n",
            "\r  0% 0.00/19.7k [00:00<?, ?B/s]\r100% 19.7k/19.7k [00:00<00:00, 10.8MB/s]\n"
          ]
        }
      ]
    },
    {
      "cell_type": "markdown",
      "metadata": {
        "id": "dlTwZS0GkYOL"
      },
      "source": [
        "##### Imports"
      ]
    },
    {
      "cell_type": "code",
      "metadata": {
        "id": "mrgumouV7fKg"
      },
      "source": [
        "import json\n",
        "\n",
        "import numpy as np\n",
        "import pandas as pd\n",
        "\n",
        "from sklearn.cluster import KMeans, AgglomerativeClustering\n",
        "import spacy"
      ],
      "execution_count": 109,
      "outputs": []
    },
    {
      "cell_type": "markdown",
      "metadata": {
        "id": "shaNVBtOCn9I"
      },
      "source": [
        "##### Read data"
      ]
    },
    {
      "cell_type": "code",
      "metadata": {
        "colab": {
          "base_uri": "https://localhost:8080/",
          "height": 201
        },
        "id": "wdORy6wk3iA9",
        "outputId": "87e992e3-a054-450a-aaa3-934980623613"
      },
      "source": [
        "kapri_queries = pd.read_csv('/content/kapri_queries_unique.csv')\n",
        "kapri_queries.head()"
      ],
      "execution_count": 110,
      "outputs": [
        {
          "output_type": "execute_result",
          "data": {
            "text/html": [
              "<div>\n",
              "<style scoped>\n",
              "    .dataframe tbody tr th:only-of-type {\n",
              "        vertical-align: middle;\n",
              "    }\n",
              "\n",
              "    .dataframe tbody tr th {\n",
              "        vertical-align: top;\n",
              "    }\n",
              "\n",
              "    .dataframe thead th {\n",
              "        text-align: right;\n",
              "    }\n",
              "</style>\n",
              "<table border=\"1\" class=\"dataframe\">\n",
              "  <thead>\n",
              "    <tr style=\"text-align: right;\">\n",
              "      <th></th>\n",
              "      <th>query</th>\n",
              "    </tr>\n",
              "  </thead>\n",
              "  <tbody>\n",
              "    <tr>\n",
              "      <th>0</th>\n",
              "      <td>капри джинсовые</td>\n",
              "    </tr>\n",
              "    <tr>\n",
              "      <th>1</th>\n",
              "      <td>капри женские спортивные</td>\n",
              "    </tr>\n",
              "    <tr>\n",
              "      <th>2</th>\n",
              "      <td>капри женские домашние</td>\n",
              "    </tr>\n",
              "    <tr>\n",
              "      <th>3</th>\n",
              "      <td>капри женские</td>\n",
              "    </tr>\n",
              "    <tr>\n",
              "      <th>4</th>\n",
              "      <td>капри 68 р</td>\n",
              "    </tr>\n",
              "  </tbody>\n",
              "</table>\n",
              "</div>"
            ],
            "text/plain": [
              "                      query\n",
              "0           капри джинсовые\n",
              "1  капри женские спортивные\n",
              "2    капри женские домашние\n",
              "3             капри женские\n",
              "4                капри 68 р"
            ]
          },
          "metadata": {},
          "execution_count": 110
        }
      ]
    },
    {
      "cell_type": "markdown",
      "metadata": {
        "id": "K1JqBRUG2wjL"
      },
      "source": [
        "##### Initial preprocessing"
      ]
    },
    {
      "cell_type": "code",
      "metadata": {
        "id": "aqD1O7Ay20xi"
      },
      "source": [
        "kapri_queries_clean = kapri_queries\n",
        "kapri_queries_clean['query'] = kapri_queries['query'].apply(lambda x: x.lower()) # lowercase"
      ],
      "execution_count": 111,
      "outputs": []
    },
    {
      "cell_type": "markdown",
      "metadata": {
        "id": "EbBhykf9nIJl"
      },
      "source": [
        "##### Transform queries into vectors with the use of pre-trained embeddings"
      ]
    },
    {
      "cell_type": "code",
      "metadata": {
        "id": "EJ6a5K9QISGC"
      },
      "source": [
        "nlp = spacy.load('ru_core_news_lg')"
      ],
      "execution_count": 112,
      "outputs": []
    },
    {
      "cell_type": "code",
      "metadata": {
        "colab": {
          "base_uri": "https://localhost:8080/"
        },
        "id": "PDEoRJN8reGB",
        "outputId": "37cafdb1-25c8-4efd-a514-5a4ec392be04"
      },
      "source": [
        "print(nlp.pipe_names)"
      ],
      "execution_count": 113,
      "outputs": [
        {
          "output_type": "stream",
          "name": "stdout",
          "text": [
            "['tok2vec', 'morphologizer', 'parser', 'attribute_ruler', 'lemmatizer', 'ner']\n"
          ]
        }
      ]
    },
    {
      "cell_type": "code",
      "metadata": {
        "id": "aBmOjz3kr7Mt"
      },
      "source": [
        "docs = list(nlp.pipe(kapri_queries_clean['query'].values, n_process=-1))"
      ],
      "execution_count": 114,
      "outputs": []
    },
    {
      "cell_type": "code",
      "metadata": {
        "id": "msnl08tz3c_-"
      },
      "source": [
        "X = np.array([doc.vector / doc.vector_norm for doc in docs if doc.vector_norm])\n",
        "\n",
        "model = AgglomerativeClustering(n_clusters=200, linkage=\"average\", affinity='cosine').fit(X)"
      ],
      "execution_count": 145,
      "outputs": []
    },
    {
      "cell_type": "code",
      "metadata": {
        "colab": {
          "base_uri": "https://localhost:8080/"
        },
        "id": "OtSCqZlJ5idw",
        "outputId": "b5a0b8f3-bca3-4664-bc30-5fe981fdfcc8"
      },
      "source": [
        "model.labels_"
      ],
      "execution_count": 146,
      "outputs": [
        {
          "output_type": "execute_result",
          "data": {
            "text/plain": [
              "array([  6,   4,  27,   4, 155,   4, 184, 168,  64,   4,  23,  27,  36,\n",
              "         4,  36,  58,  80,   4,   4,  24,   4,  11,  11, 193,   4,  90,\n",
              "        48,  18, 151,  41,  35, 199,  10, 114,  36, 174,  72, 105,  28,\n",
              "        10, 158, 141, 167,   3,  46,  44,  10,  14,   4, 133,  90,   4,\n",
              "       159,  27,  52,   0,   3, 164,  17,  17,   4,   4, 112,   0,  37,\n",
              "         4,   3,   2,  90,   1,   3,   3,  25, 185, 127,   3,   4,  80,\n",
              "        80,  24,   7,  45,   9,   4,  10,   1, 143,  41,   9,   9,   9,\n",
              "       148,  27, 145,   3,  80,  33,  99, 189,  40,  39,  26, 103,  20,\n",
              "       181, 183, 138, 134,   4, 152, 129,  23, 120,  80,  83,  10,  48,\n",
              "        45,   4, 144,   4,   4, 139,   3,   3,   4,  38, 190, 135,   3,\n",
              "         3,  74, 140, 156,  30, 179,   4, 176,   3, 161,   3,   4,   4,\n",
              "         4,   4,  76,  17,   4,   4,  25,  27,  52,  10,  10,  70, 194,\n",
              "       192, 160,   2,   4,  12, 111,   4,   3,  17,   3, 169,   4, 175,\n",
              "         2,  10,  70,  52,  50,   3, 131,   4,   4,   4,  64,  64,  31,\n",
              "        72,  25,  52,  35, 132,   6,  10,  42,   1,   4,  41,  44,   4,\n",
              "        56, 191, 137, 171, 136, 110,   4,  21,   4,   1,   3,   3, 147,\n",
              "        66,  31,  18, 157, 115,  37,  91,  14,  37, 182,   3,   4,   4,\n",
              "         4, 123,  29, 121,  36,  90, 172,   4,   0,  41,  26, 142, 142,\n",
              "       118,  65,   3, 187,  73, 100,  56, 126, 107,   3,  30, 173,  95,\n",
              "        46,   4,   4, 188, 124, 125,   3, 153,   4, 141,  44,  22,  36,\n",
              "         4,   4,  58,  13,   4,  33, 130,  41,  15, 108,  75, 163,  80,\n",
              "       142,  40,  77,  76,   4,   4,   3,  13,  58,  36,  10,   3,  36,\n",
              "         3,  67,  10,  53,  69,   4, 119,  38,  61,   3, 195, 197,  80,\n",
              "         3,   1,  38,  27,   3,  44,  74, 146,  10,   4,   6,  32,  55,\n",
              "       180,  10,   4,  89,  10, 101,  19, 198, 177,   2,  54,  54, 116,\n",
              "         3,  77,   7,   4,   4,  27,  60,  94,   4,  27,  27, 102, 170,\n",
              "       162,  60,  78,  16, 122, 109,  84,  44,   4,  10,  10,  96,   4,\n",
              "       166,  23, 178,  22, 106, 196, 110,   3, 110,   8,   4,  59,  39,\n",
              "         4,  12,   5,   5, 117,  80,  10,   4,  10,  93,   4, 128,  36,\n",
              "        19,  20,  54,  36,   3,  24, 104,  63,  50,   4, 165,  49,  42,\n",
              "         3,   8,   3,   0,  21,   0,   3,   4,  85,  14,   2,  10,  59,\n",
              "         8,  10, 113,  83,  27,  68,   1,  15,  74, 154,  74,  44,  28,\n",
              "        28,  28,  98, 186,  51,  62,  88,  47,  80,  39,   3,  79,  36,\n",
              "        37,  82,  87,  10,  34,  71,  34,  81,  34,   3,  16, 149,  27,\n",
              "       150,   3,   6,  36,  92,  97,   4,  86,  43,  39, 118,  29,  57,\n",
              "         3,  40,  29,   1,  10,  26,  31,  13])"
            ]
          },
          "metadata": {},
          "execution_count": 146
        }
      ]
    },
    {
      "cell_type": "code",
      "metadata": {
        "colab": {
          "base_uri": "https://localhost:8080/"
        },
        "id": "3wD9aibWxbDF",
        "outputId": "28cac371-5c21-46c9-b824-232ca6f0b329"
      },
      "source": [
        "sizes = [(i, sum(model.labels_ == i)) for i in range(100)]\n",
        "sorted(sizes, key=lambda x: x[1], reverse=True)[:5]"
      ],
      "execution_count": 147,
      "outputs": [
        {
          "output_type": "execute_result",
          "data": {
            "text/plain": [
              "[(4, 65), (3, 38), (10, 22), (27, 11), (36, 11)]"
            ]
          },
          "metadata": {},
          "execution_count": 147
        }
      ]
    },
    {
      "cell_type": "code",
      "metadata": {
        "id": "QIFPpZe1K1TZ"
      },
      "source": [
        "vocab = np.array([str(doc) for doc in docs if doc.vector_norm])"
      ],
      "execution_count": 153,
      "outputs": []
    },
    {
      "cell_type": "code",
      "metadata": {
        "colab": {
          "base_uri": "https://localhost:8080/"
        },
        "id": "OiEqtAf75nCT",
        "outputId": "b18db9b7-cd22-441e-9051-7b5ebb3fce18"
      },
      "source": [
        "cluster_i = 27\n",
        "print(f'Cluster {cluster_i} with size {sum(model.labels_ == cluster_i)}:')\n",
        "sorted(vocab[model.labels_ == cluster_i])"
      ],
      "execution_count": 149,
      "outputs": [
        {
          "output_type": "stream",
          "name": "stdout",
          "text": [
            "Cluster 27 with size 11:\n"
          ]
        },
        {
          "output_type": "execute_result",
          "data": {
            "text/plain": [
              "['бриджи капри домашние',\n",
              " 'брюки капри домашние',\n",
              " 'домашние капри женские',\n",
              " 'капри домашние',\n",
              " 'капри домашние мужские',\n",
              " 'капри домашние трикотажные',\n",
              " 'капри женские домашние',\n",
              " 'капри женскиееапри домашние',\n",
              " 'капри легенцы домашние',\n",
              " 'капри мужские домашние',\n",
              " 'капри трикотаж домашние']"
            ]
          },
          "metadata": {},
          "execution_count": 149
        }
      ]
    },
    {
      "cell_type": "markdown",
      "metadata": {
        "id": "oGFMYuuPJp83"
      },
      "source": [
        "##### Generate top-5 tags for random query from list"
      ]
    },
    {
      "cell_type": "code",
      "metadata": {
        "id": "HIL9mU5bj25C",
        "colab": {
          "base_uri": "https://localhost:8080/"
        },
        "outputId": "4a0e7f00-a1d6-4d70-e448-664350b866a7"
      },
      "source": [
        "query_id = np.random.randint(0, len(model.labels_))\n",
        "query = [str(doc) for doc in docs if doc.vector_norm][query_id]\n",
        "cluster_id = model.labels_[query_id]\n",
        "'Query', query, 'Cluster', cluster_id"
      ],
      "execution_count": 200,
      "outputs": [
        {
          "output_type": "execute_result",
          "data": {
            "text/plain": [
              "('Query', 'капри и блузка летние', 'Cluster', 9)"
            ]
          },
          "metadata": {},
          "execution_count": 200
        }
      ]
    },
    {
      "cell_type": "code",
      "metadata": {
        "id": "ci0fqRAHKBM8"
      },
      "source": [
        "clarifying_tags = []\n",
        "\n",
        "for i in range(model.n_clusters_):\n",
        "    if i != query_id:\n",
        "        t = np.random.choice(vocab[model.labels_ == i])\n",
        "        clarifying_tags.append(t.lower())"
      ],
      "execution_count": 201,
      "outputs": []
    },
    {
      "cell_type": "code",
      "metadata": {
        "colab": {
          "base_uri": "https://localhost:8080/"
        },
        "id": "-FUuzbLpLThX",
        "outputId": "c4449c22-7511-4952-e2db-73ff4573e1ab"
      },
      "source": [
        "def choose_top_k(tags, k=7):\n",
        "    # the most similar\n",
        "    return np.random.choice(tags, k)\n",
        "\n",
        "'Query', query, 'Clarifying_tags', *choose_top_k(clarifying_tags)"
      ],
      "execution_count": 203,
      "outputs": [
        {
          "output_type": "execute_result",
          "data": {
            "text/plain": [
              "('Query',\n",
              " 'капри и блузка летние',\n",
              " 'Clarifying_tags',\n",
              " 'женские капри вельвет',\n",
              " 'капри мальчику',\n",
              " 'капри из льна',\n",
              " 'капри для спорта с высокой посадкой',\n",
              " 'портьера капри канвас',\n",
              " 'купить капри женские',\n",
              " 'ремешок для apple watch 44 капри blue')"
            ]
          },
          "metadata": {},
          "execution_count": 203
        }
      ]
    },
    {
      "cell_type": "code",
      "metadata": {
        "id": "6rr_3VjBLUfc"
      },
      "source": [
        ""
      ],
      "execution_count": null,
      "outputs": []
    }
  ]
}