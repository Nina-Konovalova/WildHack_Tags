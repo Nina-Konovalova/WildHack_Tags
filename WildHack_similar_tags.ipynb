{
  "nbformat": 4,
  "nbformat_minor": 0,
  "metadata": {
    "colab": {
      "name": "WildHack_Assel.ipynb",
      "provenance": [],
      "collapsed_sections": [
        "7JiBc1mH6Qvm",
        "bKX_cHJHdpGs",
        "Dp5Ag8K2ywFS",
        "L-QAClKgyz2k",
        "VwZdXcNssZB5",
        "zmxMFK6U7lBB",
        "923sorVl7tCs",
        "etCtBVIe8EOD",
        "Af_B8Yb68IPQ",
        "qOK3Krcl8jxs",
        "y9CavA7tCaQI",
        "WYIiCBcYmnbr",
        "ZczT6NjzG61-",
        "wdAfKjL9ds5y",
        "9WD8ggcuah2X",
        "onNTRKNDbICS",
        "cYCGImh6FaqL",
        "HNeg1JIlCjGq",
        "WypPl21hCgK2",
        "0zRoiJXwPEJK",
        "0ylbJ4sh4FPS",
        "le39wdDy4HmP",
        "gHPSXEVdGHUN",
        "FpnfKIHcPY6t",
        "eXVl1x2PPKdN",
        "Z-zL-sZV8vFs",
        "LsAFHu38PhOL",
        "AM7MAkDwFMEk",
        "4flpWLPzVzrV",
        "Hp17m-s1Xx4z",
        "f-fIMiyfX1uv",
        "03my79IlbG58"
      ]
    },
    "kernelspec": {
      "name": "python3",
      "display_name": "Python 3"
    },
    "language_info": {
      "name": "python"
    }
  },
  "cells": [
    {
      "cell_type": "markdown",
      "metadata": {
        "id": "7JiBc1mH6Qvm"
      },
      "source": [
        "## Installations"
      ]
    },
    {
      "cell_type": "code",
      "metadata": {
        "id": "oT1S_RAny4yX"
      },
      "source": [
        "# !pip install -U spacy >=2.3.2"
      ],
      "execution_count": null,
      "outputs": []
    },
    {
      "cell_type": "code",
      "metadata": {
        "id": "QqGGRqYw2_M4"
      },
      "source": [
        "# !wget https://github.com/buriy/spacy-ru/releases/download/v2.3_beta/ru2_combined_400ks_96.zip\n",
        "# !unzip ru2_combined_400ks_96.zip"
      ],
      "execution_count": null,
      "outputs": []
    },
    {
      "cell_type": "code",
      "metadata": {
        "id": "DK1bTE33zdNS"
      },
      "source": [
        "!pip install pymorphy2"
      ],
      "execution_count": null,
      "outputs": []
    },
    {
      "cell_type": "code",
      "metadata": {
        "colab": {
          "base_uri": "https://localhost:8080/"
        },
        "id": "qAnHY33YwWJ7",
        "outputId": "ab0c04e1-f952-4210-f319-f151e47494ad"
      },
      "source": [
        "from google.colab import drive\n",
        "drive.mount('/content/drive')"
      ],
      "execution_count": 2,
      "outputs": [
        {
          "output_type": "stream",
          "name": "stdout",
          "text": [
            "Drive already mounted at /content/drive; to attempt to forcibly remount, call drive.mount(\"/content/drive\", force_remount=True).\n"
          ]
        }
      ]
    },
    {
      "cell_type": "code",
      "metadata": {
        "id": "VEKrkhiyZtZE"
      },
      "source": [
        "from google.colab import drive\n",
        "drive.flush_and_unmount()"
      ],
      "execution_count": 3,
      "outputs": []
    },
    {
      "cell_type": "markdown",
      "metadata": {
        "id": "bKX_cHJHdpGs"
      },
      "source": [
        "## Data extraction"
      ]
    },
    {
      "cell_type": "code",
      "metadata": {
        "id": "itVydcg3NPEt"
      },
      "source": [
        "import numpy as np\n",
        "import pandas as pd"
      ],
      "execution_count": null,
      "outputs": []
    },
    {
      "cell_type": "markdown",
      "metadata": {
        "id": "Dp5Ag8K2ywFS"
      },
      "source": [
        "### query_popularity"
      ]
    },
    {
      "cell_type": "code",
      "metadata": {
        "colab": {
          "base_uri": "https://localhost:8080/"
        },
        "id": "-LsQyrdXl_Wx",
        "outputId": "d50698c4-f738-4fc1-9803-346a6e391b51"
      },
      "source": [
        "cd /content/drive/MyDrive/Skoltech/Padre_Pio_XIII/WildHack/Assel_materials"
      ],
      "execution_count": null,
      "outputs": [
        {
          "output_type": "stream",
          "name": "stdout",
          "text": [
            "/content/drive/MyDrive/Skoltech/Padre_Pio_XIII/WildHack/Assel_materials\n"
          ]
        }
      ]
    },
    {
      "cell_type": "code",
      "metadata": {
        "id": "roql0MVD6-KS"
      },
      "source": [
        "import pandas as pd\n",
        "import numpy as np\n",
        "\n",
        "query_popularity = pd.read_csv(\"/content/drive/MyDrive/Skoltech/Padre_Pio_XIII/WildHack/query_popularity.csv\")"
      ],
      "execution_count": null,
      "outputs": []
    },
    {
      "cell_type": "code",
      "metadata": {
        "colab": {
          "base_uri": "https://localhost:8080/"
        },
        "id": "62rHMnLiw379",
        "outputId": "c595888f-5e7f-4063-f175-d2578665d405"
      },
      "source": [
        "query_popularity.shape"
      ],
      "execution_count": null,
      "outputs": [
        {
          "output_type": "execute_result",
          "data": {
            "text/plain": [
              "(336988, 2)"
            ]
          },
          "metadata": {},
          "execution_count": 28
        }
      ]
    },
    {
      "cell_type": "markdown",
      "metadata": {
        "id": "L-QAClKgyz2k"
      },
      "source": [
        "### ru dataset with russian words"
      ]
    },
    {
      "cell_type": "code",
      "metadata": {
        "id": "OeX60eX2y27N"
      },
      "source": [
        ""
      ],
      "execution_count": null,
      "outputs": []
    },
    {
      "cell_type": "markdown",
      "metadata": {
        "id": "VwZdXcNssZB5"
      },
      "source": [
        "## Data preprocessing"
      ]
    },
    {
      "cell_type": "markdown",
      "metadata": {
        "id": "zmxMFK6U7lBB"
      },
      "source": [
        "### Spacy lemmanizer"
      ]
    },
    {
      "cell_type": "code",
      "metadata": {
        "id": "_WAocNm99zK4"
      },
      "source": [
        "import spacy\n",
        "spacy.cli.download(\"ru_core_news_lg\")"
      ],
      "execution_count": null,
      "outputs": []
    },
    {
      "cell_type": "code",
      "metadata": {
        "colab": {
          "base_uri": "https://localhost:8080/"
        },
        "id": "1vCHx4lX4Yvf",
        "outputId": "845e57b8-0e82-4248-f2e7-40872a80aaff"
      },
      "source": [
        "nlp = spacy.load(\"ru_core_news_lg\")\n",
        "lemmatizer = nlp.get_pipe(\"lemmatizer\")\n",
        "print(lemmatizer.mode)\n",
        "doc = nlp(\"Я купила красивую кофточку\")\n",
        "print([token.lemma_ for token in doc])"
      ],
      "execution_count": null,
      "outputs": [
        {
          "output_type": "stream",
          "name": "stdout",
          "text": [
            "pymorphy2\n",
            "['я', 'купить', 'красивый', 'кофточка']\n"
          ]
        }
      ]
    },
    {
      "cell_type": "markdown",
      "metadata": {
        "id": "923sorVl7tCs"
      },
      "source": [
        "### Snowball Stemmization"
      ]
    },
    {
      "cell_type": "code",
      "metadata": {
        "id": "8uVhrNTjzG1e"
      },
      "source": [
        "from nltk.stem import SnowballStemmer\n",
        "snowball = SnowballStemmer(language='russian')\n",
        "snowball.stem('Осенняя')\n"
      ],
      "execution_count": null,
      "outputs": []
    },
    {
      "cell_type": "markdown",
      "metadata": {
        "id": "etCtBVIe8EOD"
      },
      "source": [
        "### Pymorphy2 lemmanizer"
      ]
    },
    {
      "cell_type": "code",
      "metadata": {
        "id": "fRjKNhjCzknM"
      },
      "source": [
        "import pymorphy2\n",
        "morph = pymorphy2.MorphAnalyzer()\n",
        "morph.parse('фотоаппаратов')[0].normal_form"
      ],
      "execution_count": null,
      "outputs": []
    },
    {
      "cell_type": "markdown",
      "metadata": {
        "id": "Af_B8Yb68IPQ"
      },
      "source": [
        "### Pymystem3"
      ]
    },
    {
      "cell_type": "code",
      "metadata": {
        "colab": {
          "base_uri": "https://localhost:8080/"
        },
        "id": "Gakd0uwAw1Zn",
        "outputId": "00924c15-b235-41a2-ff4c-42a74a18ca3c"
      },
      "source": [
        "from pymystem3 import Mystem\n",
        "mystem = Mystem() "
      ],
      "execution_count": null,
      "outputs": [
        {
          "output_type": "stream",
          "name": "stderr",
          "text": [
            "Installing mystem to /root/.local/bin/mystem from http://download.cdn.yandex.net/mystem/mystem-3.1-linux-64bit.tar.gz\n"
          ]
        }
      ]
    },
    {
      "cell_type": "markdown",
      "metadata": {
        "id": "qOK3Krcl8jxs"
      },
      "source": [
        "### Chosen preprocessing"
      ]
    },
    {
      "cell_type": "code",
      "metadata": {
        "colab": {
          "base_uri": "https://localhost:8080/"
        },
        "id": "0uXL2t-xscO8",
        "outputId": "501b6e91-89d5-49f7-b43e-2f20b4d0ea48"
      },
      "source": [
        "from nltk.tokenize import sent_tokenize, word_tokenize\n",
        "from nltk.corpus import stopwords\n",
        "import nltk\n",
        "from nltk.corpus import wordnet\n",
        "from nltk.stem import WordNetLemmatizer\n",
        "import pymorphy2\n",
        "nltk.download('punkt')\n",
        "\n",
        "nltk.download('stopwords')\n",
        "\n",
        "russian_stopwords = stopwords.words(\"russian\")\n",
        "morph = pymorphy2.MorphAnalyzer()"
      ],
      "execution_count": null,
      "outputs": [
        {
          "output_type": "stream",
          "name": "stdout",
          "text": [
            "[nltk_data] Downloading package punkt to /root/nltk_data...\n",
            "[nltk_data]   Package punkt is already up-to-date!\n",
            "[nltk_data] Downloading package stopwords to /root/nltk_data...\n",
            "[nltk_data]   Package stopwords is already up-to-date!\n"
          ]
        }
      ]
    },
    {
      "cell_type": "code",
      "metadata": {
        "id": "XLSAZQTT8wfi"
      },
      "source": [
        "def data_preprocessing(text):\n",
        "\n",
        "  text = text.lower()\n",
        "  words = word_tokenize(text, language='russian')\n",
        "  words = [word for word in words if not word in russian_stopwords]\n",
        "  words = [morph.parse(word)[0].normal_form for word in words]\n",
        "  return words"
      ],
      "execution_count": null,
      "outputs": []
    },
    {
      "cell_type": "code",
      "metadata": {
        "id": "xilsHKyuBXrR"
      },
      "source": [
        "query_popularity['preprocessed_tokens'] = query_popularity['query'].apply(lambda x: data_preprocessing(x))"
      ],
      "execution_count": null,
      "outputs": []
    },
    {
      "cell_type": "markdown",
      "metadata": {
        "id": "y9CavA7tCaQI"
      },
      "source": [
        "## Words ---> Embeddings"
      ]
    },
    {
      "cell_type": "markdown",
      "metadata": {
        "id": "WYIiCBcYmnbr"
      },
      "source": [
        "### Пример работы с эмбединнгами из лекций Панченко"
      ]
    },
    {
      "cell_type": "code",
      "metadata": {
        "id": "MSENoU2VmBwi"
      },
      "source": [
        "!wget http://panchenko.me/slides/nnlp/data/cc.ru.300.vec.zip"
      ],
      "execution_count": null,
      "outputs": []
    },
    {
      "cell_type": "code",
      "metadata": {
        "colab": {
          "base_uri": "https://localhost:8080/"
        },
        "id": "ndvH0giamh_R",
        "outputId": "91675af2-a7ec-41ba-b144-f5d9039d5c7b"
      },
      "source": [
        "!unzip cc.ru.300.vec.zip"
      ],
      "execution_count": null,
      "outputs": [
        {
          "output_type": "stream",
          "name": "stdout",
          "text": [
            "Archive:  cc.ru.300.vec.zip\n",
            "  inflating: cc.ru.300.vec           \n"
          ]
        }
      ]
    },
    {
      "cell_type": "code",
      "metadata": {
        "id": "r94emXBwmQAz"
      },
      "source": [
        "import gensim\n",
        "import numpy as np\n",
        "from gensim.models import KeyedVectors\n",
        "\n",
        "import requests\n",
        "\n",
        "ru_emb = KeyedVectors.load_word2vec_format(\"cc.ru.300.vec\")"
      ],
      "execution_count": null,
      "outputs": []
    },
    {
      "cell_type": "code",
      "metadata": {
        "colab": {
          "base_uri": "https://localhost:8080/"
        },
        "id": "oBj9eXGUmWZt",
        "outputId": "5158e0d0-81a6-48d6-bff6-37869f308a00"
      },
      "source": [
        "ru_emb.most_similar([ru_emb[\"кофта\"]], topn=10)"
      ],
      "execution_count": null,
      "outputs": [
        {
          "output_type": "execute_result",
          "data": {
            "text/plain": [
              "[('кофта', 1.0),\n",
              " ('кофточка', 0.8027787804603577),\n",
              " ('водолазка', 0.7804529666900635),\n",
              " ('блуза', 0.7505505084991455),\n",
              " ('курточка', 0.7494008541107178),\n",
              " ('блузка', 0.7484604120254517),\n",
              " ('рубашка', 0.7404817342758179),\n",
              " ('жилетка', 0.7383711338043213),\n",
              " ('туника', 0.7328645586967468),\n",
              " ('безрукавка', 0.7282662391662598)]"
            ]
          },
          "metadata": {},
          "execution_count": 51
        }
      ]
    },
    {
      "cell_type": "markdown",
      "metadata": {
        "id": "ZczT6NjzG61-"
      },
      "source": [
        "### Gensim + fasttext- рабочая модель"
      ]
    },
    {
      "cell_type": "code",
      "metadata": {
        "id": "IkjS5WylHAl0"
      },
      "source": [
        "import gensim"
      ],
      "execution_count": null,
      "outputs": []
    },
    {
      "cell_type": "code",
      "metadata": {
        "colab": {
          "base_uri": "https://localhost:8080/"
        },
        "id": "CPqxqx7THHV_",
        "outputId": "cc47c283-5fb1-4b92-8ff4-b36638133d04"
      },
      "source": [
        "# model download. For this example we will use fasttex pretrained model.\n",
        "!wget http://vectors.nlpl.eu/repository/20/214.zip"
      ],
      "execution_count": null,
      "outputs": [
        {
          "output_type": "stream",
          "name": "stdout",
          "text": [
            "--2021-11-14 04:26:07--  http://vectors.nlpl.eu/repository/20/214.zip\n",
            "Resolving vectors.nlpl.eu (vectors.nlpl.eu)... 129.240.189.181\n",
            "Connecting to vectors.nlpl.eu (vectors.nlpl.eu)|129.240.189.181|:80... connected.\n",
            "HTTP request sent, awaiting response... 200 OK\n",
            "Length: 1920218982 (1.8G) [application/zip]\n",
            "Saving to: ‘214.zip’\n",
            "\n",
            "214.zip             100%[===================>]   1.79G  24.4MB/s    in 76s     \n",
            "\n",
            "2021-11-14 04:27:24 (24.1 MB/s) - ‘214.zip’ saved [1920218982/1920218982]\n",
            "\n"
          ]
        }
      ]
    },
    {
      "cell_type": "code",
      "metadata": {
        "colab": {
          "base_uri": "https://localhost:8080/"
        },
        "id": "P4wwWDwEHJjR",
        "outputId": "d8c69760-a64e-4ddd-a9bd-aae485271107"
      },
      "source": [
        "!unzip 214.zip -d ru_fasttext_model"
      ],
      "execution_count": null,
      "outputs": [
        {
          "output_type": "stream",
          "name": "stdout",
          "text": [
            "Archive:  214.zip\n",
            "  inflating: ru_fasttext_model/meta.json  \n",
            "  inflating: ru_fasttext_model/model.model  \n",
            "  inflating: ru_fasttext_model/model.model.vectors_ngrams.npy  \n",
            "  inflating: ru_fasttext_model/model.model.vectors.npy  \n",
            "  inflating: ru_fasttext_model/model.model.vectors_vocab.npy  \n",
            "  inflating: ru_fasttext_model/README  \n"
          ]
        }
      ]
    },
    {
      "cell_type": "code",
      "metadata": {
        "id": "PFaLkGxJHLYe"
      },
      "source": [
        "ru_fasttext_model = gensim.models.KeyedVectors.load('/content/drive/MyDrive/Skoltech/Padre_Pio_XIII/WildHack/Assel_materials/ru_fasttext_model/model.model')"
      ],
      "execution_count": null,
      "outputs": []
    },
    {
      "cell_type": "code",
      "metadata": {
        "colab": {
          "base_uri": "https://localhost:8080/"
        },
        "id": "Ca2-hQDZHN0L",
        "outputId": "153bba07-bd52-49d5-d835-313981274a6f"
      },
      "source": [
        "ru_fasttext_model.get_vector(\"кофта\")"
      ],
      "execution_count": null,
      "outputs": [
        {
          "output_type": "execute_result",
          "data": {
            "text/plain": [
              "array([-3.16673875e-01, -3.44897330e-01,  4.98045444e-01, -1.57779321e-01,\n",
              "       -6.17443144e-01, -3.21173728e-01, -1.04907066e-01,  3.79439890e-01,\n",
              "       -1.23112172e-01, -3.99725318e-01,  1.45621877e-02, -3.94380063e-01,\n",
              "       -2.24752501e-01, -2.75740493e-02, -1.89597514e-02, -2.70162374e-01,\n",
              "       -3.05854797e-01, -8.04790184e-02,  7.26092041e-01, -2.69159973e-01,\n",
              "       -4.83959705e-01,  2.09891170e-01, -1.67212591e-01,  5.16246259e-01,\n",
              "       -4.71317954e-02, -8.39082003e-01,  1.46864861e-01, -1.10908076e-01,\n",
              "        4.87202823e-01,  1.52310997e-01,  5.88977098e-01, -2.81061918e-01,\n",
              "       -2.14366186e-02, -3.93366665e-01, -6.96267039e-02, -4.12223995e-01,\n",
              "        2.22060591e-01, -1.57052681e-01, -1.45617858e-01,  8.75454396e-02,\n",
              "       -2.16176212e-01, -1.75142661e-01, -1.50720969e-01, -1.61035076e-01,\n",
              "       -1.24751791e-01, -1.32906690e-01, -4.53682780e-01, -8.44563171e-02,\n",
              "        1.25200972e-01,  3.62179697e-01, -3.63375366e-01,  3.64154190e-01,\n",
              "        5.48803881e-02, -9.21356827e-02,  3.56802344e-02,  8.78562927e-02,\n",
              "        9.67587903e-02,  3.12478751e-01,  1.77289307e-01, -3.21644902e-01,\n",
              "       -3.24525625e-01,  1.62739024e-01,  3.67643952e-01, -3.24004024e-01,\n",
              "        1.29322320e-01,  2.04156101e-01, -3.21110457e-01, -1.09439772e-02,\n",
              "       -4.59535390e-01,  5.72326243e-01, -3.85206193e-01,  9.43443254e-02,\n",
              "        2.90431291e-01,  1.68802515e-02,  5.60050130e-01,  3.36811334e-01,\n",
              "       -2.20757961e-01, -2.23734379e-01, -4.82052475e-01,  2.87674982e-02,\n",
              "        6.40852377e-02,  1.03861243e-01, -2.04886332e-01,  4.73912686e-01,\n",
              "        1.91902310e-01, -3.09856862e-01, -1.15846395e-02, -2.11992487e-01,\n",
              "       -5.06900430e-01, -1.58178970e-01,  4.52101491e-02,  3.32120478e-01,\n",
              "        3.08656633e-01, -2.64376849e-01,  1.23383760e-01,  6.16638884e-02,\n",
              "       -8.05801675e-02, -1.37550205e-01, -1.70033991e-01,  3.04236263e-01,\n",
              "       -6.72940016e-02, -1.18139476e-01,  4.52082336e-01,  7.41429534e-03,\n",
              "       -3.62582028e-01, -8.00315000e-04,  2.77451396e-01, -4.35089134e-03,\n",
              "       -2.87488312e-01, -4.28024918e-01,  2.71594644e-01, -3.18214566e-01,\n",
              "        2.27957323e-01,  2.02652007e-01,  1.13809243e-01,  1.72413200e-01,\n",
              "       -1.84936777e-01,  2.61859298e-01, -1.67062618e-02,  1.08421050e-01,\n",
              "        2.04895958e-01, -3.63237858e-02,  7.23575428e-02,  1.11355409e-01,\n",
              "        2.63354331e-01,  4.45861131e-01, -4.32799831e-02, -9.64373052e-02,\n",
              "       -2.26769950e-02, -7.40495250e-02,  2.28783906e-01, -1.03684492e-01,\n",
              "       -2.84608126e-01, -1.14287823e-01, -2.49041066e-01,  1.51616126e-01,\n",
              "        3.85719463e-02,  1.17323965e-01,  3.56485516e-01,  1.52170837e-01,\n",
              "       -1.88157871e-01,  4.86957610e-01, -6.00946881e-03,  3.11306398e-02,\n",
              "        3.99199456e-01,  2.43468523e-01, -1.86883688e-01,  1.86548874e-01,\n",
              "       -3.99379656e-02,  8.75447839e-02,  4.94714946e-01, -6.26510620e-01,\n",
              "       -2.85788387e-01,  2.44448587e-01,  2.35375270e-01,  3.21772844e-01,\n",
              "       -1.73689872e-01,  2.56083786e-01, -2.14282036e-01,  6.73308447e-02,\n",
              "       -6.63406312e-01, -2.65244693e-01, -1.62268907e-01, -1.62188768e-01,\n",
              "        2.97841579e-01,  2.38680810e-01,  2.79726118e-01,  1.12825923e-01,\n",
              "        4.33826596e-01, -1.00387223e-01,  5.21414354e-02,  4.80822235e-01,\n",
              "       -7.89413825e-02,  5.33068120e-01, -1.10181734e-01,  2.20274851e-01,\n",
              "        1.44561827e-01, -1.76515087e-01, -4.00722444e-01, -2.32662573e-01,\n",
              "        3.79997730e-01, -2.26254463e-01, -3.57688614e-03,  2.62966663e-01,\n",
              "        5.19732594e-01,  1.54316992e-01, -1.06048539e-01, -6.32471368e-02,\n",
              "        2.43289202e-01,  2.24104151e-02, -8.88727512e-03,  6.83346987e-02,\n",
              "       -5.24325743e-02,  1.93079099e-01,  9.66008380e-03, -3.08718562e-01,\n",
              "        4.00480814e-02, -1.78517580e-01, -3.91709536e-01, -1.34602683e-02,\n",
              "        1.08937554e-01, -1.46260396e-01, -5.83245933e-01,  4.20923561e-01,\n",
              "       -1.71819910e-01, -9.75703299e-02, -1.64938241e-01,  6.43261522e-02,\n",
              "        1.09028742e-01,  6.08424425e-01, -1.88227877e-01,  3.12386304e-01,\n",
              "       -5.51693380e-01,  2.25689232e-01, -3.30256194e-01,  7.63361692e-01,\n",
              "       -1.55282114e-02,  2.87052058e-02, -1.03771359e-01,  8.61605480e-02,\n",
              "        2.16274768e-01,  5.32900274e-01, -8.79619196e-02,  2.86159143e-02,\n",
              "        1.85769498e-01,  4.66893464e-01,  3.67592156e-01,  6.88408166e-02,\n",
              "        2.61023790e-01, -7.08627403e-02, -4.98742700e-01, -1.07034802e-01,\n",
              "        2.65364707e-01, -1.38771310e-01, -1.97825104e-01, -4.83609855e-01,\n",
              "       -1.69632435e-01,  1.27567679e-01,  1.40201882e-01, -1.08232861e-02,\n",
              "       -5.92259131e-02,  4.10024792e-01,  6.81877583e-02,  6.53301924e-02,\n",
              "        2.10449193e-02, -3.06485504e-01, -6.74904063e-02,  3.59521955e-02,\n",
              "        2.47399092e-01,  1.02136575e-01, -1.88273042e-01,  2.36945599e-01,\n",
              "        1.89332273e-02, -2.35599220e-01,  2.96467971e-02,  5.31038046e-01,\n",
              "        1.73814550e-01, -2.00291593e-02, -1.25090238e-02, -1.62867919e-01,\n",
              "       -2.53933854e-02,  1.19769901e-01,  8.41776788e-01,  1.18859559e-01,\n",
              "       -2.40887180e-02, -1.76404148e-01, -8.60439390e-02, -7.90018216e-02,\n",
              "        1.16592556e-01, -2.50205368e-01, -1.01502344e-01,  3.76995891e-01,\n",
              "        2.42040724e-01,  2.49813516e-02,  2.43046299e-01,  1.73859149e-01,\n",
              "       -2.66009271e-01, -1.56233490e-01, -1.63847819e-01, -4.54912871e-01,\n",
              "        4.16243374e-01,  1.29167020e-01, -5.52461073e-02, -3.53182286e-01,\n",
              "       -1.77259192e-01,  2.02648371e-01,  1.23898745e-01, -4.20154899e-01,\n",
              "        1.96523055e-01, -2.22409427e-01,  1.26267686e-01, -2.69786984e-01,\n",
              "       -2.64399856e-01, -1.30362853e-01,  5.18024325e-01,  3.16384256e-01,\n",
              "        1.07877962e-02,  3.81381512e-01, -1.59794897e-01, -1.11780182e-01],\n",
              "      dtype=float32)"
            ]
          },
          "metadata": {},
          "execution_count": 12
        }
      ]
    },
    {
      "cell_type": "code",
      "metadata": {
        "id": "TC3OoTXUHYu1"
      },
      "source": [
        "tags = ru_fasttext_model.most_similar(positive=[\"офис\", \"набор\"])"
      ],
      "execution_count": null,
      "outputs": []
    },
    {
      "cell_type": "code",
      "metadata": {
        "colab": {
          "base_uri": "https://localhost:8080/"
        },
        "id": "Bn7sRyRMQRZM",
        "outputId": "dc3b10af-fbf9-4013-88e9-f4e1a5a70481"
      },
      "source": [
        "tags"
      ],
      "execution_count": null,
      "outputs": [
        {
          "output_type": "execute_result",
          "data": {
            "text/plain": [
              "[('комплект', 0.6443444490432739),\n",
              " ('наборчик', 0.6285516023635864),\n",
              " ('магазин', 0.5845011472702026),\n",
              " ('комлект', 0.5763264894485474),\n",
              " ('корзинунабор', 0.5691683292388916),\n",
              " ('минимаркет', 0.5665059685707092),\n",
              " ('склад-магазин', 0.5617548227310181),\n",
              " ('офисное', 0.5520975589752197),\n",
              " ('инструментарий', 0.5514048933982849),\n",
              " ('продуктовый', 0.5509083271026611)]"
            ]
          },
          "metadata": {},
          "execution_count": 26
        }
      ]
    },
    {
      "cell_type": "code",
      "metadata": {
        "colab": {
          "base_uri": "https://localhost:8080/"
        },
        "id": "zFqSa_LkQAfu",
        "outputId": "efc83dc8-1d71-4815-9317-babde0f5c47f"
      },
      "source": [
        "tags"
      ],
      "execution_count": null,
      "outputs": [
        {
          "output_type": "execute_result",
          "data": {
            "text/plain": [
              "[('демисезонная', 0.8067998290061951),\n",
              " ('курточка', 0.7757225036621094),\n",
              " ('толстовка', 0.7682155966758728),\n",
              " ('жилетка', 0.7641149163246155),\n",
              " ('ветровка', 0.7575536370277405),\n",
              " ('рубашка', 0.7310628294944763),\n",
              " ('куртки', 0.7197908163070679),\n",
              " ('ушанка', 0.7146055102348328),\n",
              " ('шапка', 0.7133417129516602),\n",
              " ('меховая', 0.7121798992156982)]"
            ]
          },
          "metadata": {},
          "execution_count": 20
        }
      ]
    },
    {
      "cell_type": "markdown",
      "metadata": {
        "id": "wdAfKjL9ds5y"
      },
      "source": [
        "### Download fasttext pre-trained models"
      ]
    },
    {
      "cell_type": "code",
      "metadata": {
        "id": "SnAFWdjLZuPP"
      },
      "source": [
        "# !wget http://files.deeppavlov.ai/embeddings/ft_native_300_ru_wiki_lenta_lemmatize/ft_native_300_ru_wiki_lenta_lemmatize.bin"
      ],
      "execution_count": null,
      "outputs": []
    },
    {
      "cell_type": "code",
      "metadata": {
        "id": "J8tvWUY1cdgC"
      },
      "source": [
        "# !wget http://files.deeppavlov.ai/embeddings/ft_native_300_ru_twitter_nltk_word_tokenize.bin"
      ],
      "execution_count": null,
      "outputs": []
    },
    {
      "cell_type": "markdown",
      "metadata": {
        "id": "9WD8ggcuah2X"
      },
      "source": [
        "### Fasttext установка"
      ]
    },
    {
      "cell_type": "code",
      "metadata": {
        "id": "OCH8MXjPaBXR"
      },
      "source": [
        "! wget https://github.com/facebookresearch/fastText/archive/v0.9.2.zip\n",
        "!unzip v0.9.2.zip"
      ],
      "execution_count": null,
      "outputs": []
    },
    {
      "cell_type": "code",
      "metadata": {
        "colab": {
          "base_uri": "https://localhost:8080/"
        },
        "id": "to0qjut7a6Dh",
        "outputId": "49a285ff-b783-4218-ff4d-1262a9a77d41"
      },
      "source": [
        "cd fastText-0.9.2"
      ],
      "execution_count": null,
      "outputs": [
        {
          "output_type": "stream",
          "name": "stdout",
          "text": [
            "/content/drive/My Drive/Skoltech/Padre_Pio_XIII/WildHack/Assel_materials/fastText-0.9.2\n"
          ]
        }
      ]
    },
    {
      "cell_type": "code",
      "metadata": {
        "id": "KhZMvONca9Ny"
      },
      "source": [
        "!make"
      ],
      "execution_count": null,
      "outputs": []
    },
    {
      "cell_type": "code",
      "metadata": {
        "id": "FClpgGfGbBZq"
      },
      "source": [
        "!pip install ."
      ],
      "execution_count": null,
      "outputs": []
    },
    {
      "cell_type": "markdown",
      "metadata": {
        "id": "onNTRKNDbICS"
      },
      "source": [
        "### Fasttext models"
      ]
    },
    {
      "cell_type": "code",
      "metadata": {
        "colab": {
          "base_uri": "https://localhost:8080/"
        },
        "id": "4dN3iflDcr_T",
        "outputId": "20e47928-27f8-4eda-f0a2-2b1ee8b409f2"
      },
      "source": [
        "cd /content/drive/MyDrive/Skoltech/Padre_Pio_XIII/WildHack/Assel_materials/fastText-0.9.2"
      ],
      "execution_count": null,
      "outputs": [
        {
          "output_type": "stream",
          "name": "stdout",
          "text": [
            "/content/drive/MyDrive/Skoltech/Padre_Pio_XIII/WildHack/Assel_materials/fastText-0.9.2\n"
          ]
        }
      ]
    },
    {
      "cell_type": "code",
      "metadata": {
        "id": "fTel_zfAcHKs"
      },
      "source": [
        "model1 = fasttext.load_model(\"/content/drive/MyDrive/Skoltech/Padre_Pio_XIII/WildHack/Assel_materials/fasttext_bins/ft_native_300_ru_twitter_nltk_word_tokenize.bin\")"
      ],
      "execution_count": null,
      "outputs": []
    },
    {
      "cell_type": "code",
      "metadata": {
        "colab": {
          "base_uri": "https://localhost:8080/"
        },
        "id": "usTZI__VcPNk",
        "outputId": "bf1c1ad7-43f9-4b21-d449-d1a922e5cf6c"
      },
      "source": [
        "model1.get_nearest_neighbors(\"кошка\")"
      ],
      "execution_count": null,
      "outputs": [
        {
          "output_type": "execute_result",
          "data": {
            "text/plain": [
              "[(0.886544942855835, 'собака'),\n",
              " (0.8334879279136658, 'собачка'),\n",
              " (0.8285769820213318, 'кошка.'),\n",
              " (0.8281669020652771, 'Кошка'),\n",
              " (0.8268365263938904, 'коткошка'),\n",
              " (0.8147615194320679, 'кошечка'),\n",
              " (0.7972818613052368, 'кошка,'),\n",
              " (0.7970927953720093, ',кошка'),\n",
              " (0.7897952795028687, 'соседская'),\n",
              " (0.783193826675415, 'черепаха')]"
            ]
          },
          "metadata": {},
          "execution_count": 9
        }
      ]
    },
    {
      "cell_type": "code",
      "metadata": {
        "id": "kYUmUrmGgsnz"
      },
      "source": [
        "cat_vec = model1.get_word_vector('кошка')\n",
        "dog_vec = model1.get_word_vector('собака')\n",
        "kitty_vec = model1.get_word_vector('кошeчка')"
      ],
      "execution_count": null,
      "outputs": []
    },
    {
      "cell_type": "code",
      "metadata": {
        "id": "ImfGIXLgg1No"
      },
      "source": [
        "from scipy import spatial\n",
        "1 - spatial.distance.cosine(cat_vec, dog_vec)"
      ],
      "execution_count": null,
      "outputs": []
    },
    {
      "cell_type": "code",
      "metadata": {
        "colab": {
          "base_uri": "https://localhost:8080/"
        },
        "id": "P5XZNoYdiKd6",
        "outputId": "ee18578e-5637-480b-d4f8-9f5481d514b4"
      },
      "source": [
        "1 - spatial.distance.cosine(cat_vec, dog_vec)"
      ],
      "execution_count": null,
      "outputs": [
        {
          "output_type": "execute_result",
          "data": {
            "text/plain": [
              "0.8865448832511902"
            ]
          },
          "metadata": {},
          "execution_count": 18
        }
      ]
    },
    {
      "cell_type": "code",
      "metadata": {
        "colab": {
          "base_uri": "https://localhost:8080/"
        },
        "id": "TtZrBkYriGHG",
        "outputId": "bfd9c6ee-0c35-4914-de6c-f2a70c17ad94"
      },
      "source": [
        "1 - spatial.distance.cosine(model1.get_word_vector('кофта'), model1.get_word_vector('кофточка'))"
      ],
      "execution_count": null,
      "outputs": [
        {
          "output_type": "execute_result",
          "data": {
            "text/plain": [
              "0.8967674970626831"
            ]
          },
          "metadata": {},
          "execution_count": 37
        }
      ]
    },
    {
      "cell_type": "code",
      "metadata": {
        "id": "hyJ647aNkPeM"
      },
      "source": [
        "query_popularity.dropna(inplace=True)"
      ],
      "execution_count": null,
      "outputs": []
    },
    {
      "cell_type": "code",
      "metadata": {
        "id": "8llOueJJiw86"
      },
      "source": [
        "query_popularity['word2vec'] = query_popularity['query'].apply(lambda x: model1.get_word_vector(x))"
      ],
      "execution_count": null,
      "outputs": []
    },
    {
      "cell_type": "markdown",
      "metadata": {
        "id": "cYCGImh6FaqL"
      },
      "source": [
        "## Find tags"
      ]
    },
    {
      "cell_type": "markdown",
      "metadata": {
        "id": "HNeg1JIlCjGq"
      },
      "source": [
        "### Download dataset with preprocessed tokens"
      ]
    },
    {
      "cell_type": "code",
      "metadata": {
        "id": "B2Bpe6clUe5_"
      },
      "source": [
        "from scipy import spatial\n",
        "import numpy as np\n",
        "import pandas as pd\n",
        "# import fasttext"
      ],
      "execution_count": null,
      "outputs": []
    },
    {
      "cell_type": "code",
      "metadata": {
        "id": "n5k-b_5YODKZ"
      },
      "source": [
        "query_popularity = pd.read_pickle('/content/drive/MyDrive/Skoltech/Padre_Pio_XIII/WildHack/Assel_materials/query_popularity_preprocessed_word2vec.pkl')"
      ],
      "execution_count": null,
      "outputs": []
    },
    {
      "cell_type": "markdown",
      "metadata": {
        "id": "WypPl21hCgK2"
      },
      "source": [
        "### Delete english and digits\n",
        "\n"
      ]
    },
    {
      "cell_type": "code",
      "metadata": {
        "id": "JgCKbksD9pwd"
      },
      "source": [
        "import string\n",
        "\n",
        "new_data = query_popularity[query_popularity['query'] >= 'а' and query_popularity['query'] >= 'z']\n",
        "english_array = string.ascii_uppercase+string.ascii_lowercase + string.digits\n",
        "eng = [i for i in english_array]\n",
        "\n",
        "all_tokens = []\n",
        "cnt = 0\n",
        "for token in new_data['preprocessed_tokens']:\n",
        "  for t in token:\n",
        "    cnt = 0\n",
        "    for letter in t:\n",
        "      if letter in eng:\n",
        "        cnt += 1\n",
        "    if cnt == 0:\n",
        "      all_tokens.append(t)"
      ],
      "execution_count": null,
      "outputs": []
    },
    {
      "cell_type": "code",
      "metadata": {
        "id": "yLDGEURxAreG"
      },
      "source": [
        "all_tokens = pd.Series(list(set(all_tokens)))"
      ],
      "execution_count": null,
      "outputs": []
    },
    {
      "cell_type": "code",
      "metadata": {
        "id": "b8iH8jp0BGsT"
      },
      "source": [
        "token2vec = []\n",
        "token = list(set(all_tokens))\n",
        "M = len(token)\n",
        "\n",
        "for i in range(M):\n",
        "  try:\n",
        "    token2vec.append(ru_fasttext_model.get_vector(token[i]))\n",
        "  except:\n",
        "    token2vec.append(None)"
      ],
      "execution_count": null,
      "outputs": []
    },
    {
      "cell_type": "code",
      "metadata": {
        "id": "ZXhCewZsBJ_w"
      },
      "source": [
        "tok2vec = pd.Series(token2vec)"
      ],
      "execution_count": null,
      "outputs": []
    },
    {
      "cell_type": "code",
      "metadata": {
        "id": "7NdrTMduBPFc"
      },
      "source": [
        "series = { 'token': all_tokens, 'token2vec': tok2vec }\n",
        "dataframe = pd.DataFrame(series)"
      ],
      "execution_count": null,
      "outputs": []
    },
    {
      "cell_type": "code",
      "metadata": {
        "id": "iNr9SR1eP8-2"
      },
      "source": [
        "dataframe.dropna(inplace=True)"
      ],
      "execution_count": null,
      "outputs": []
    },
    {
      "cell_type": "code",
      "metadata": {
        "id": "HZAcZyjRSNha"
      },
      "source": [
        "# dataframe.drop(['cluster'],axis=1,inplace=True)"
      ],
      "execution_count": null,
      "outputs": []
    },
    {
      "cell_type": "code",
      "metadata": {
        "colab": {
          "base_uri": "https://localhost:8080/",
          "height": 424
        },
        "id": "OqUU-emuQAPM",
        "outputId": "dd047ddd-6b7f-4cd1-ee94-fb0032ea1121"
      },
      "source": [
        "dataframe"
      ],
      "execution_count": null,
      "outputs": [
        {
          "output_type": "execute_result",
          "data": {
            "text/html": [
              "<div>\n",
              "<style scoped>\n",
              "    .dataframe tbody tr th:only-of-type {\n",
              "        vertical-align: middle;\n",
              "    }\n",
              "\n",
              "    .dataframe tbody tr th {\n",
              "        vertical-align: top;\n",
              "    }\n",
              "\n",
              "    .dataframe thead th {\n",
              "        text-align: right;\n",
              "    }\n",
              "</style>\n",
              "<table border=\"1\" class=\"dataframe\">\n",
              "  <thead>\n",
              "    <tr style=\"text-align: right;\">\n",
              "      <th></th>\n",
              "      <th>token</th>\n",
              "      <th>token2vec</th>\n",
              "    </tr>\n",
              "  </thead>\n",
              "  <tbody>\n",
              "    <tr>\n",
              "      <th>1</th>\n",
              "      <td>марни</td>\n",
              "      <td>[0.16677357, 0.08101124, 0.22967526, -0.233135...</td>\n",
              "    </tr>\n",
              "    <tr>\n",
              "      <th>2</th>\n",
              "      <td>фитинг</td>\n",
              "      <td>[-0.44259387, -0.13088427, 0.3603452, 0.489628...</td>\n",
              "    </tr>\n",
              "    <tr>\n",
              "      <th>4</th>\n",
              "      <td>камаз</td>\n",
              "      <td>[-0.3917158, -0.029374126, 0.24775603, -0.1479...</td>\n",
              "    </tr>\n",
              "    <tr>\n",
              "      <th>6</th>\n",
              "      <td>ёлочка</td>\n",
              "      <td>[-0.0111735985, 0.1611769, 0.1230761, -0.35288...</td>\n",
              "    </tr>\n",
              "    <tr>\n",
              "      <th>9</th>\n",
              "      <td>нары</td>\n",
              "      <td>[0.17737818, -0.21898988, 0.10689692, 0.019172...</td>\n",
              "    </tr>\n",
              "    <tr>\n",
              "      <th>...</th>\n",
              "      <td>...</td>\n",
              "      <td>...</td>\n",
              "    </tr>\n",
              "    <tr>\n",
              "      <th>38087</th>\n",
              "      <td>суфле</td>\n",
              "      <td>[-0.112649165, -0.5916668, 0.23877941, -0.2266...</td>\n",
              "    </tr>\n",
              "    <tr>\n",
              "      <th>38089</th>\n",
              "      <td>рай</td>\n",
              "      <td>[-0.0038947803, -0.053480785, 0.08424123, 0.26...</td>\n",
              "    </tr>\n",
              "    <tr>\n",
              "      <th>38090</th>\n",
              "      <td>ёрш</td>\n",
              "      <td>[-0.420692, 0.34631017, -0.41336983, 0.1567766...</td>\n",
              "    </tr>\n",
              "    <tr>\n",
              "      <th>38091</th>\n",
              "      <td>цвейг</td>\n",
              "      <td>[-0.058493577, 0.023739407, 0.082857296, -0.03...</td>\n",
              "    </tr>\n",
              "    <tr>\n",
              "      <th>38092</th>\n",
              "      <td>липа</td>\n",
              "      <td>[-0.32402262, 0.023549765, -0.0049085496, -0.0...</td>\n",
              "    </tr>\n",
              "  </tbody>\n",
              "</table>\n",
              "<p>16234 rows × 2 columns</p>\n",
              "</div>"
            ],
            "text/plain": [
              "        token                                          token2vec\n",
              "1       марни  [0.16677357, 0.08101124, 0.22967526, -0.233135...\n",
              "2      фитинг  [-0.44259387, -0.13088427, 0.3603452, 0.489628...\n",
              "4       камаз  [-0.3917158, -0.029374126, 0.24775603, -0.1479...\n",
              "6      ёлочка  [-0.0111735985, 0.1611769, 0.1230761, -0.35288...\n",
              "9        нары  [0.17737818, -0.21898988, 0.10689692, 0.019172...\n",
              "...       ...                                                ...\n",
              "38087   суфле  [-0.112649165, -0.5916668, 0.23877941, -0.2266...\n",
              "38089     рай  [-0.0038947803, -0.053480785, 0.08424123, 0.26...\n",
              "38090     ёрш  [-0.420692, 0.34631017, -0.41336983, 0.1567766...\n",
              "38091   цвейг  [-0.058493577, 0.023739407, 0.082857296, -0.03...\n",
              "38092    липа  [-0.32402262, 0.023549765, -0.0049085496, -0.0...\n",
              "\n",
              "[16234 rows x 2 columns]"
            ]
          },
          "metadata": {},
          "execution_count": 435
        }
      ]
    },
    {
      "cell_type": "code",
      "metadata": {
        "id": "cExMnzdQQb8_"
      },
      "source": [
        "dataframe.to_pickle(\"/content/drive/MyDrive/Skoltech/Padre_Pio_XIII/WildHack/Assel_materials/token2vec_Assel.pkl\")"
      ],
      "execution_count": null,
      "outputs": []
    },
    {
      "cell_type": "markdown",
      "metadata": {
        "id": "0zRoiJXwPEJK"
      },
      "source": [
        "### token2vec to np.array"
      ]
    },
    {
      "cell_type": "markdown",
      "metadata": {
        "id": "0ylbJ4sh4FPS"
      },
      "source": [
        "##### dataframe 1"
      ]
    },
    {
      "cell_type": "code",
      "metadata": {
        "id": "YgIeFywDhB2W"
      },
      "source": [
        "import pandas as pd\n",
        "dataframe = pd.read_pickle('/content/drive/MyDrive/Skoltech/Padre_Pio_XIII/WildHack/Assel_materials/token2vec_Assel.pkl')"
      ],
      "execution_count": null,
      "outputs": []
    },
    {
      "cell_type": "code",
      "metadata": {
        "colab": {
          "base_uri": "https://localhost:8080/",
          "height": 424
        },
        "id": "mAz_B0vA9JEY",
        "outputId": "faed3afb-b223-4cd1-91bb-38ce125c7201"
      },
      "source": [
        "dataframe"
      ],
      "execution_count": null,
      "outputs": [
        {
          "output_type": "execute_result",
          "data": {
            "text/html": [
              "<div>\n",
              "<style scoped>\n",
              "    .dataframe tbody tr th:only-of-type {\n",
              "        vertical-align: middle;\n",
              "    }\n",
              "\n",
              "    .dataframe tbody tr th {\n",
              "        vertical-align: top;\n",
              "    }\n",
              "\n",
              "    .dataframe thead th {\n",
              "        text-align: right;\n",
              "    }\n",
              "</style>\n",
              "<table border=\"1\" class=\"dataframe\">\n",
              "  <thead>\n",
              "    <tr style=\"text-align: right;\">\n",
              "      <th></th>\n",
              "      <th>token</th>\n",
              "      <th>token2vec</th>\n",
              "    </tr>\n",
              "  </thead>\n",
              "  <tbody>\n",
              "    <tr>\n",
              "      <th>1</th>\n",
              "      <td>марни</td>\n",
              "      <td>[0.16677357, 0.08101124, 0.22967526, -0.233135...</td>\n",
              "    </tr>\n",
              "    <tr>\n",
              "      <th>2</th>\n",
              "      <td>фитинг</td>\n",
              "      <td>[-0.44259387, -0.13088427, 0.3603452, 0.489628...</td>\n",
              "    </tr>\n",
              "    <tr>\n",
              "      <th>4</th>\n",
              "      <td>камаз</td>\n",
              "      <td>[-0.3917158, -0.029374126, 0.24775603, -0.1479...</td>\n",
              "    </tr>\n",
              "    <tr>\n",
              "      <th>6</th>\n",
              "      <td>ёлочка</td>\n",
              "      <td>[-0.0111735985, 0.1611769, 0.1230761, -0.35288...</td>\n",
              "    </tr>\n",
              "    <tr>\n",
              "      <th>9</th>\n",
              "      <td>нары</td>\n",
              "      <td>[0.17737818, -0.21898988, 0.10689692, 0.019172...</td>\n",
              "    </tr>\n",
              "    <tr>\n",
              "      <th>...</th>\n",
              "      <td>...</td>\n",
              "      <td>...</td>\n",
              "    </tr>\n",
              "    <tr>\n",
              "      <th>38087</th>\n",
              "      <td>суфле</td>\n",
              "      <td>[-0.112649165, -0.5916668, 0.23877941, -0.2266...</td>\n",
              "    </tr>\n",
              "    <tr>\n",
              "      <th>38089</th>\n",
              "      <td>рай</td>\n",
              "      <td>[-0.0038947803, -0.053480785, 0.08424123, 0.26...</td>\n",
              "    </tr>\n",
              "    <tr>\n",
              "      <th>38090</th>\n",
              "      <td>ёрш</td>\n",
              "      <td>[-0.420692, 0.34631017, -0.41336983, 0.1567766...</td>\n",
              "    </tr>\n",
              "    <tr>\n",
              "      <th>38091</th>\n",
              "      <td>цвейг</td>\n",
              "      <td>[-0.058493577, 0.023739407, 0.082857296, -0.03...</td>\n",
              "    </tr>\n",
              "    <tr>\n",
              "      <th>38092</th>\n",
              "      <td>липа</td>\n",
              "      <td>[-0.32402262, 0.023549765, -0.0049085496, -0.0...</td>\n",
              "    </tr>\n",
              "  </tbody>\n",
              "</table>\n",
              "<p>16234 rows × 2 columns</p>\n",
              "</div>"
            ],
            "text/plain": [
              "        token                                          token2vec\n",
              "1       марни  [0.16677357, 0.08101124, 0.22967526, -0.233135...\n",
              "2      фитинг  [-0.44259387, -0.13088427, 0.3603452, 0.489628...\n",
              "4       камаз  [-0.3917158, -0.029374126, 0.24775603, -0.1479...\n",
              "6      ёлочка  [-0.0111735985, 0.1611769, 0.1230761, -0.35288...\n",
              "9        нары  [0.17737818, -0.21898988, 0.10689692, 0.019172...\n",
              "...       ...                                                ...\n",
              "38087   суфле  [-0.112649165, -0.5916668, 0.23877941, -0.2266...\n",
              "38089     рай  [-0.0038947803, -0.053480785, 0.08424123, 0.26...\n",
              "38090     ёрш  [-0.420692, 0.34631017, -0.41336983, 0.1567766...\n",
              "38091   цвейг  [-0.058493577, 0.023739407, 0.082857296, -0.03...\n",
              "38092    липа  [-0.32402262, 0.023549765, -0.0049085496, -0.0...\n",
              "\n",
              "[16234 rows x 2 columns]"
            ]
          },
          "metadata": {},
          "execution_count": 36
        }
      ]
    },
    {
      "cell_type": "markdown",
      "metadata": {
        "id": "le39wdDy4HmP"
      },
      "source": [
        "#### dataframe 2"
      ]
    },
    {
      "cell_type": "code",
      "metadata": {
        "id": "ALD9YDiV4J3k"
      },
      "source": [
        "import numpy as np\n",
        "\n",
        "reqs = np.load('/content/drive/MyDrive/Skoltech/Padre_Pio_XIII/WildHack/words.npy')"
      ],
      "execution_count": null,
      "outputs": []
    },
    {
      "cell_type": "code",
      "metadata": {
        "colab": {
          "base_uri": "https://localhost:8080/"
        },
        "id": "QtaJ7TKpJhMT",
        "outputId": "aaa78069-8697-4f35-b6a9-be876079ada2"
      },
      "source": [
        "'Я' > 'я'"
      ],
      "execution_count": null,
      "outputs": [
        {
          "output_type": "execute_result",
          "data": {
            "text/plain": [
              "False"
            ]
          },
          "metadata": {},
          "execution_count": 30
        }
      ]
    },
    {
      "cell_type": "code",
      "metadata": {
        "colab": {
          "base_uri": "https://localhost:8080/"
        },
        "id": "pOAFanjVIn8Z",
        "outputId": "7f016b33-804c-4229-ad68-c46b788318ec"
      },
      "source": [
        "reqs"
      ],
      "execution_count": null,
      "outputs": [
        {
          "output_type": "execute_result",
          "data": {
            "text/plain": [
              "array(['!', '#', '$', ..., '🦊', '🧸🤖', '\\U0001faa5'], dtype='<U197')"
            ]
          },
          "metadata": {},
          "execution_count": 28
        }
      ]
    },
    {
      "cell_type": "code",
      "metadata": {
        "colab": {
          "base_uri": "https://localhost:8080/"
        },
        "id": "jAhOKDumKTOu",
        "outputId": "db05d61c-b77f-4981-91e4-90415c4efada"
      },
      "source": [
        "'!' > 'А'"
      ],
      "execution_count": null,
      "outputs": [
        {
          "output_type": "execute_result",
          "data": {
            "text/plain": [
              "False"
            ]
          },
          "metadata": {},
          "execution_count": 41
        }
      ]
    },
    {
      "cell_type": "code",
      "metadata": {
        "id": "wrSAVyoCIrXI"
      },
      "source": [
        "import string\n",
        "\n",
        "# new_data = query_popularity[query_popularity['query'] >= 'а' and query_popularity['query'] <= 'z']\n",
        "# english_array = string.ascii_uppercase+string.ascii_lowercase + string.digits\n",
        "\n",
        "# eng = [i for i in english_array]\n",
        "\n",
        "\n",
        "all_tokens = []\n",
        "\n",
        "for token in reqs:\n",
        "  cnt = 0\n",
        "  for letter in token:\n",
        "    if letter < 'А' or letter > 'я':\n",
        "      cnt += 1\n",
        "  if cnt == 0:\n",
        "    all_tokens.append(t)"
      ],
      "execution_count": null,
      "outputs": []
    },
    {
      "cell_type": "code",
      "metadata": {
        "colab": {
          "base_uri": "https://localhost:8080/"
        },
        "id": "3MylMR7MLEOS",
        "outputId": "1eef16da-e016-46b0-b7da-faa916faf2ea"
      },
      "source": [
        "all_tokens"
      ],
      "execution_count": null,
      "outputs": [
        {
          "output_type": "execute_result",
          "data": {
            "text/plain": [
              "['\\U0001faa5',\n",
              " '\\U0001faa5',\n",
              " '\\U0001faa5',\n",
              " '\\U0001faa5',\n",
              " '\\U0001faa5',\n",
              " '\\U0001faa5',\n",
              " '\\U0001faa5',\n",
              " '\\U0001faa5',\n",
              " '\\U0001faa5',\n",
              " '\\U0001faa5',\n",
              " '\\U0001faa5',\n",
              " '\\U0001faa5',\n",
              " '\\U0001faa5',\n",
              " '\\U0001faa5',\n",
              " '\\U0001faa5',\n",
              " '\\U0001faa5',\n",
              " '\\U0001faa5',\n",
              " '\\U0001faa5',\n",
              " '\\U0001faa5',\n",
              " '\\U0001faa5',\n",
              " '\\U0001faa5',\n",
              " '\\U0001faa5',\n",
              " '\\U0001faa5',\n",
              " '\\U0001faa5',\n",
              " '\\U0001faa5',\n",
              " '\\U0001faa5',\n",
              " '\\U0001faa5',\n",
              " '\\U0001faa5',\n",
              " '\\U0001faa5',\n",
              " '\\U0001faa5',\n",
              " '\\U0001faa5',\n",
              " '\\U0001faa5',\n",
              " '\\U0001faa5',\n",
              " '\\U0001faa5',\n",
              " '\\U0001faa5',\n",
              " '\\U0001faa5',\n",
              " '\\U0001faa5',\n",
              " '\\U0001faa5',\n",
              " '\\U0001faa5',\n",
              " '\\U0001faa5',\n",
              " '\\U0001faa5',\n",
              " '\\U0001faa5',\n",
              " '\\U0001faa5',\n",
              " '\\U0001faa5',\n",
              " '\\U0001faa5',\n",
              " '\\U0001faa5',\n",
              " '\\U0001faa5',\n",
              " '\\U0001faa5',\n",
              " '\\U0001faa5',\n",
              " '\\U0001faa5',\n",
              " '\\U0001faa5',\n",
              " '\\U0001faa5',\n",
              " '\\U0001faa5',\n",
              " '\\U0001faa5',\n",
              " '\\U0001faa5',\n",
              " '\\U0001faa5',\n",
              " '\\U0001faa5',\n",
              " '\\U0001faa5',\n",
              " '\\U0001faa5',\n",
              " '\\U0001faa5',\n",
              " '\\U0001faa5',\n",
              " '\\U0001faa5',\n",
              " '\\U0001faa5',\n",
              " '\\U0001faa5',\n",
              " '\\U0001faa5',\n",
              " '\\U0001faa5',\n",
              " '\\U0001faa5',\n",
              " '\\U0001faa5',\n",
              " '\\U0001faa5',\n",
              " '\\U0001faa5',\n",
              " '\\U0001faa5',\n",
              " '\\U0001faa5',\n",
              " '\\U0001faa5',\n",
              " '\\U0001faa5',\n",
              " '\\U0001faa5',\n",
              " '\\U0001faa5',\n",
              " '\\U0001faa5',\n",
              " '\\U0001faa5',\n",
              " '\\U0001faa5',\n",
              " '\\U0001faa5',\n",
              " '\\U0001faa5',\n",
              " '\\U0001faa5',\n",
              " '\\U0001faa5',\n",
              " '\\U0001faa5',\n",
              " '\\U0001faa5',\n",
              " '\\U0001faa5',\n",
              " '\\U0001faa5',\n",
              " '\\U0001faa5',\n",
              " '\\U0001faa5',\n",
              " '\\U0001faa5',\n",
              " '\\U0001faa5',\n",
              " '\\U0001faa5',\n",
              " '\\U0001faa5',\n",
              " '\\U0001faa5',\n",
              " '\\U0001faa5',\n",
              " '\\U0001faa5',\n",
              " '\\U0001faa5',\n",
              " '\\U0001faa5',\n",
              " '\\U0001faa5',\n",
              " '\\U0001faa5',\n",
              " '\\U0001faa5',\n",
              " '\\U0001faa5',\n",
              " '\\U0001faa5',\n",
              " '\\U0001faa5',\n",
              " '\\U0001faa5',\n",
              " '\\U0001faa5',\n",
              " '\\U0001faa5',\n",
              " '\\U0001faa5',\n",
              " '\\U0001faa5',\n",
              " '\\U0001faa5',\n",
              " '\\U0001faa5',\n",
              " '\\U0001faa5',\n",
              " '\\U0001faa5',\n",
              " '\\U0001faa5',\n",
              " '\\U0001faa5',\n",
              " '\\U0001faa5',\n",
              " '\\U0001faa5',\n",
              " '\\U0001faa5',\n",
              " '\\U0001faa5',\n",
              " '\\U0001faa5',\n",
              " '\\U0001faa5',\n",
              " '\\U0001faa5',\n",
              " '\\U0001faa5',\n",
              " '\\U0001faa5',\n",
              " '\\U0001faa5',\n",
              " '\\U0001faa5',\n",
              " '\\U0001faa5',\n",
              " '\\U0001faa5',\n",
              " '\\U0001faa5',\n",
              " '\\U0001faa5',\n",
              " '\\U0001faa5',\n",
              " '\\U0001faa5',\n",
              " '\\U0001faa5',\n",
              " '\\U0001faa5',\n",
              " '\\U0001faa5',\n",
              " '\\U0001faa5',\n",
              " '\\U0001faa5',\n",
              " '\\U0001faa5',\n",
              " '\\U0001faa5',\n",
              " '\\U0001faa5',\n",
              " '\\U0001faa5',\n",
              " '\\U0001faa5',\n",
              " '\\U0001faa5',\n",
              " '\\U0001faa5',\n",
              " '\\U0001faa5',\n",
              " '\\U0001faa5',\n",
              " '\\U0001faa5',\n",
              " '\\U0001faa5',\n",
              " '\\U0001faa5',\n",
              " '\\U0001faa5',\n",
              " '\\U0001faa5',\n",
              " '\\U0001faa5',\n",
              " '\\U0001faa5',\n",
              " '\\U0001faa5',\n",
              " '\\U0001faa5',\n",
              " '\\U0001faa5',\n",
              " '\\U0001faa5',\n",
              " '\\U0001faa5',\n",
              " '\\U0001faa5',\n",
              " '\\U0001faa5',\n",
              " '\\U0001faa5',\n",
              " '\\U0001faa5',\n",
              " '\\U0001faa5',\n",
              " '\\U0001faa5',\n",
              " '\\U0001faa5',\n",
              " '\\U0001faa5',\n",
              " '\\U0001faa5',\n",
              " '\\U0001faa5',\n",
              " '\\U0001faa5',\n",
              " '\\U0001faa5',\n",
              " '\\U0001faa5',\n",
              " '\\U0001faa5',\n",
              " '\\U0001faa5',\n",
              " '\\U0001faa5',\n",
              " '\\U0001faa5',\n",
              " '\\U0001faa5',\n",
              " '\\U0001faa5',\n",
              " '\\U0001faa5',\n",
              " '\\U0001faa5',\n",
              " '\\U0001faa5',\n",
              " '\\U0001faa5',\n",
              " '\\U0001faa5',\n",
              " '\\U0001faa5',\n",
              " '\\U0001faa5',\n",
              " '\\U0001faa5',\n",
              " '\\U0001faa5',\n",
              " '\\U0001faa5',\n",
              " '\\U0001faa5',\n",
              " '\\U0001faa5',\n",
              " '\\U0001faa5',\n",
              " '\\U0001faa5',\n",
              " '\\U0001faa5',\n",
              " '\\U0001faa5',\n",
              " '\\U0001faa5',\n",
              " '\\U0001faa5',\n",
              " '\\U0001faa5',\n",
              " '\\U0001faa5',\n",
              " '\\U0001faa5',\n",
              " '\\U0001faa5',\n",
              " '\\U0001faa5',\n",
              " '\\U0001faa5',\n",
              " '\\U0001faa5',\n",
              " '\\U0001faa5',\n",
              " '\\U0001faa5',\n",
              " '\\U0001faa5',\n",
              " '\\U0001faa5',\n",
              " '\\U0001faa5',\n",
              " '\\U0001faa5',\n",
              " '\\U0001faa5',\n",
              " '\\U0001faa5',\n",
              " '\\U0001faa5',\n",
              " '\\U0001faa5',\n",
              " '\\U0001faa5',\n",
              " '\\U0001faa5',\n",
              " '\\U0001faa5',\n",
              " '\\U0001faa5',\n",
              " '\\U0001faa5',\n",
              " '\\U0001faa5',\n",
              " '\\U0001faa5',\n",
              " '\\U0001faa5',\n",
              " '\\U0001faa5',\n",
              " '\\U0001faa5',\n",
              " '\\U0001faa5',\n",
              " '\\U0001faa5',\n",
              " '\\U0001faa5',\n",
              " '\\U0001faa5',\n",
              " '\\U0001faa5',\n",
              " '\\U0001faa5',\n",
              " '\\U0001faa5',\n",
              " '\\U0001faa5',\n",
              " '\\U0001faa5',\n",
              " '\\U0001faa5',\n",
              " '\\U0001faa5',\n",
              " '\\U0001faa5',\n",
              " '\\U0001faa5',\n",
              " '\\U0001faa5',\n",
              " '\\U0001faa5',\n",
              " '\\U0001faa5',\n",
              " '\\U0001faa5',\n",
              " '\\U0001faa5',\n",
              " '\\U0001faa5',\n",
              " '\\U0001faa5',\n",
              " '\\U0001faa5',\n",
              " '\\U0001faa5',\n",
              " '\\U0001faa5',\n",
              " '\\U0001faa5',\n",
              " '\\U0001faa5',\n",
              " '\\U0001faa5',\n",
              " '\\U0001faa5',\n",
              " '\\U0001faa5',\n",
              " '\\U0001faa5',\n",
              " '\\U0001faa5',\n",
              " '\\U0001faa5',\n",
              " '\\U0001faa5',\n",
              " '\\U0001faa5',\n",
              " '\\U0001faa5',\n",
              " '\\U0001faa5',\n",
              " '\\U0001faa5',\n",
              " '\\U0001faa5',\n",
              " '\\U0001faa5',\n",
              " '\\U0001faa5',\n",
              " '\\U0001faa5',\n",
              " '\\U0001faa5',\n",
              " '\\U0001faa5',\n",
              " '\\U0001faa5',\n",
              " '\\U0001faa5',\n",
              " '\\U0001faa5',\n",
              " '\\U0001faa5',\n",
              " '\\U0001faa5',\n",
              " '\\U0001faa5',\n",
              " '\\U0001faa5',\n",
              " '\\U0001faa5',\n",
              " '\\U0001faa5',\n",
              " '\\U0001faa5',\n",
              " '\\U0001faa5',\n",
              " '\\U0001faa5',\n",
              " '\\U0001faa5',\n",
              " '\\U0001faa5',\n",
              " '\\U0001faa5',\n",
              " '\\U0001faa5',\n",
              " '\\U0001faa5',\n",
              " '\\U0001faa5',\n",
              " '\\U0001faa5',\n",
              " '\\U0001faa5',\n",
              " '\\U0001faa5',\n",
              " '\\U0001faa5',\n",
              " '\\U0001faa5',\n",
              " '\\U0001faa5',\n",
              " '\\U0001faa5',\n",
              " '\\U0001faa5',\n",
              " '\\U0001faa5',\n",
              " '\\U0001faa5',\n",
              " '\\U0001faa5',\n",
              " '\\U0001faa5',\n",
              " '\\U0001faa5',\n",
              " '\\U0001faa5',\n",
              " '\\U0001faa5',\n",
              " '\\U0001faa5',\n",
              " '\\U0001faa5',\n",
              " '\\U0001faa5',\n",
              " '\\U0001faa5',\n",
              " '\\U0001faa5',\n",
              " '\\U0001faa5',\n",
              " '\\U0001faa5',\n",
              " '\\U0001faa5',\n",
              " '\\U0001faa5',\n",
              " '\\U0001faa5',\n",
              " '\\U0001faa5',\n",
              " '\\U0001faa5',\n",
              " '\\U0001faa5',\n",
              " '\\U0001faa5',\n",
              " '\\U0001faa5',\n",
              " '\\U0001faa5',\n",
              " '\\U0001faa5',\n",
              " '\\U0001faa5',\n",
              " '\\U0001faa5',\n",
              " '\\U0001faa5',\n",
              " '\\U0001faa5',\n",
              " '\\U0001faa5',\n",
              " '\\U0001faa5',\n",
              " '\\U0001faa5',\n",
              " '\\U0001faa5',\n",
              " '\\U0001faa5',\n",
              " '\\U0001faa5',\n",
              " '\\U0001faa5',\n",
              " '\\U0001faa5',\n",
              " '\\U0001faa5',\n",
              " '\\U0001faa5',\n",
              " '\\U0001faa5',\n",
              " '\\U0001faa5',\n",
              " '\\U0001faa5',\n",
              " '\\U0001faa5',\n",
              " '\\U0001faa5',\n",
              " '\\U0001faa5',\n",
              " '\\U0001faa5',\n",
              " '\\U0001faa5',\n",
              " '\\U0001faa5',\n",
              " '\\U0001faa5',\n",
              " '\\U0001faa5',\n",
              " '\\U0001faa5',\n",
              " '\\U0001faa5',\n",
              " '\\U0001faa5',\n",
              " '\\U0001faa5',\n",
              " '\\U0001faa5',\n",
              " '\\U0001faa5',\n",
              " '\\U0001faa5',\n",
              " '\\U0001faa5',\n",
              " '\\U0001faa5',\n",
              " '\\U0001faa5',\n",
              " '\\U0001faa5',\n",
              " '\\U0001faa5',\n",
              " '\\U0001faa5',\n",
              " '\\U0001faa5',\n",
              " '\\U0001faa5',\n",
              " '\\U0001faa5',\n",
              " '\\U0001faa5',\n",
              " '\\U0001faa5',\n",
              " '\\U0001faa5',\n",
              " '\\U0001faa5',\n",
              " '\\U0001faa5',\n",
              " '\\U0001faa5',\n",
              " '\\U0001faa5',\n",
              " '\\U0001faa5',\n",
              " '\\U0001faa5',\n",
              " '\\U0001faa5',\n",
              " '\\U0001faa5',\n",
              " '\\U0001faa5',\n",
              " '\\U0001faa5',\n",
              " '\\U0001faa5',\n",
              " '\\U0001faa5',\n",
              " '\\U0001faa5',\n",
              " '\\U0001faa5',\n",
              " '\\U0001faa5',\n",
              " '\\U0001faa5',\n",
              " '\\U0001faa5',\n",
              " '\\U0001faa5',\n",
              " '\\U0001faa5',\n",
              " '\\U0001faa5',\n",
              " '\\U0001faa5',\n",
              " '\\U0001faa5',\n",
              " '\\U0001faa5',\n",
              " '\\U0001faa5',\n",
              " '\\U0001faa5',\n",
              " '\\U0001faa5',\n",
              " '\\U0001faa5',\n",
              " '\\U0001faa5',\n",
              " '\\U0001faa5',\n",
              " '\\U0001faa5',\n",
              " '\\U0001faa5',\n",
              " '\\U0001faa5',\n",
              " '\\U0001faa5',\n",
              " '\\U0001faa5',\n",
              " '\\U0001faa5',\n",
              " '\\U0001faa5',\n",
              " '\\U0001faa5',\n",
              " '\\U0001faa5',\n",
              " '\\U0001faa5',\n",
              " '\\U0001faa5',\n",
              " '\\U0001faa5',\n",
              " '\\U0001faa5',\n",
              " '\\U0001faa5',\n",
              " '\\U0001faa5',\n",
              " '\\U0001faa5',\n",
              " '\\U0001faa5',\n",
              " '\\U0001faa5',\n",
              " '\\U0001faa5',\n",
              " '\\U0001faa5',\n",
              " '\\U0001faa5',\n",
              " '\\U0001faa5',\n",
              " '\\U0001faa5',\n",
              " '\\U0001faa5',\n",
              " '\\U0001faa5',\n",
              " '\\U0001faa5',\n",
              " '\\U0001faa5',\n",
              " '\\U0001faa5',\n",
              " '\\U0001faa5',\n",
              " '\\U0001faa5',\n",
              " '\\U0001faa5',\n",
              " '\\U0001faa5',\n",
              " '\\U0001faa5',\n",
              " '\\U0001faa5',\n",
              " '\\U0001faa5',\n",
              " '\\U0001faa5',\n",
              " '\\U0001faa5',\n",
              " '\\U0001faa5',\n",
              " '\\U0001faa5',\n",
              " '\\U0001faa5',\n",
              " '\\U0001faa5',\n",
              " '\\U0001faa5',\n",
              " '\\U0001faa5',\n",
              " '\\U0001faa5',\n",
              " '\\U0001faa5',\n",
              " '\\U0001faa5',\n",
              " '\\U0001faa5',\n",
              " '\\U0001faa5',\n",
              " '\\U0001faa5',\n",
              " '\\U0001faa5',\n",
              " '\\U0001faa5',\n",
              " '\\U0001faa5',\n",
              " '\\U0001faa5',\n",
              " '\\U0001faa5',\n",
              " '\\U0001faa5',\n",
              " '\\U0001faa5',\n",
              " '\\U0001faa5',\n",
              " '\\U0001faa5',\n",
              " '\\U0001faa5',\n",
              " '\\U0001faa5',\n",
              " '\\U0001faa5',\n",
              " '\\U0001faa5',\n",
              " '\\U0001faa5',\n",
              " '\\U0001faa5',\n",
              " '\\U0001faa5',\n",
              " '\\U0001faa5',\n",
              " '\\U0001faa5',\n",
              " '\\U0001faa5',\n",
              " '\\U0001faa5',\n",
              " '\\U0001faa5',\n",
              " '\\U0001faa5',\n",
              " '\\U0001faa5',\n",
              " '\\U0001faa5',\n",
              " '\\U0001faa5',\n",
              " '\\U0001faa5',\n",
              " '\\U0001faa5',\n",
              " '\\U0001faa5',\n",
              " '\\U0001faa5',\n",
              " '\\U0001faa5',\n",
              " '\\U0001faa5',\n",
              " '\\U0001faa5',\n",
              " '\\U0001faa5',\n",
              " '\\U0001faa5',\n",
              " '\\U0001faa5',\n",
              " '\\U0001faa5',\n",
              " '\\U0001faa5',\n",
              " '\\U0001faa5',\n",
              " '\\U0001faa5',\n",
              " '\\U0001faa5',\n",
              " '\\U0001faa5',\n",
              " '\\U0001faa5',\n",
              " '\\U0001faa5',\n",
              " '\\U0001faa5',\n",
              " '\\U0001faa5',\n",
              " '\\U0001faa5',\n",
              " '\\U0001faa5',\n",
              " '\\U0001faa5',\n",
              " '\\U0001faa5',\n",
              " '\\U0001faa5',\n",
              " '\\U0001faa5',\n",
              " '\\U0001faa5',\n",
              " '\\U0001faa5',\n",
              " '\\U0001faa5',\n",
              " '\\U0001faa5',\n",
              " '\\U0001faa5',\n",
              " '\\U0001faa5',\n",
              " '\\U0001faa5',\n",
              " '\\U0001faa5',\n",
              " '\\U0001faa5',\n",
              " '\\U0001faa5',\n",
              " '\\U0001faa5',\n",
              " '\\U0001faa5',\n",
              " '\\U0001faa5',\n",
              " '\\U0001faa5',\n",
              " '\\U0001faa5',\n",
              " '\\U0001faa5',\n",
              " '\\U0001faa5',\n",
              " '\\U0001faa5',\n",
              " '\\U0001faa5',\n",
              " '\\U0001faa5',\n",
              " '\\U0001faa5',\n",
              " '\\U0001faa5',\n",
              " '\\U0001faa5',\n",
              " '\\U0001faa5',\n",
              " '\\U0001faa5',\n",
              " '\\U0001faa5',\n",
              " '\\U0001faa5',\n",
              " '\\U0001faa5',\n",
              " '\\U0001faa5',\n",
              " '\\U0001faa5',\n",
              " '\\U0001faa5',\n",
              " '\\U0001faa5',\n",
              " '\\U0001faa5',\n",
              " '\\U0001faa5',\n",
              " '\\U0001faa5',\n",
              " '\\U0001faa5',\n",
              " '\\U0001faa5',\n",
              " '\\U0001faa5',\n",
              " '\\U0001faa5',\n",
              " '\\U0001faa5',\n",
              " '\\U0001faa5',\n",
              " '\\U0001faa5',\n",
              " '\\U0001faa5',\n",
              " '\\U0001faa5',\n",
              " '\\U0001faa5',\n",
              " '\\U0001faa5',\n",
              " '\\U0001faa5',\n",
              " '\\U0001faa5',\n",
              " '\\U0001faa5',\n",
              " '\\U0001faa5',\n",
              " '\\U0001faa5',\n",
              " '\\U0001faa5',\n",
              " '\\U0001faa5',\n",
              " '\\U0001faa5',\n",
              " '\\U0001faa5',\n",
              " '\\U0001faa5',\n",
              " '\\U0001faa5',\n",
              " '\\U0001faa5',\n",
              " '\\U0001faa5',\n",
              " '\\U0001faa5',\n",
              " '\\U0001faa5',\n",
              " '\\U0001faa5',\n",
              " '\\U0001faa5',\n",
              " '\\U0001faa5',\n",
              " '\\U0001faa5',\n",
              " '\\U0001faa5',\n",
              " '\\U0001faa5',\n",
              " '\\U0001faa5',\n",
              " '\\U0001faa5',\n",
              " '\\U0001faa5',\n",
              " '\\U0001faa5',\n",
              " '\\U0001faa5',\n",
              " '\\U0001faa5',\n",
              " '\\U0001faa5',\n",
              " '\\U0001faa5',\n",
              " '\\U0001faa5',\n",
              " '\\U0001faa5',\n",
              " '\\U0001faa5',\n",
              " '\\U0001faa5',\n",
              " '\\U0001faa5',\n",
              " '\\U0001faa5',\n",
              " '\\U0001faa5',\n",
              " '\\U0001faa5',\n",
              " '\\U0001faa5',\n",
              " '\\U0001faa5',\n",
              " '\\U0001faa5',\n",
              " '\\U0001faa5',\n",
              " '\\U0001faa5',\n",
              " '\\U0001faa5',\n",
              " '\\U0001faa5',\n",
              " '\\U0001faa5',\n",
              " '\\U0001faa5',\n",
              " '\\U0001faa5',\n",
              " '\\U0001faa5',\n",
              " '\\U0001faa5',\n",
              " '\\U0001faa5',\n",
              " '\\U0001faa5',\n",
              " '\\U0001faa5',\n",
              " '\\U0001faa5',\n",
              " '\\U0001faa5',\n",
              " '\\U0001faa5',\n",
              " '\\U0001faa5',\n",
              " '\\U0001faa5',\n",
              " '\\U0001faa5',\n",
              " '\\U0001faa5',\n",
              " '\\U0001faa5',\n",
              " '\\U0001faa5',\n",
              " '\\U0001faa5',\n",
              " '\\U0001faa5',\n",
              " '\\U0001faa5',\n",
              " '\\U0001faa5',\n",
              " '\\U0001faa5',\n",
              " '\\U0001faa5',\n",
              " '\\U0001faa5',\n",
              " '\\U0001faa5',\n",
              " '\\U0001faa5',\n",
              " '\\U0001faa5',\n",
              " '\\U0001faa5',\n",
              " '\\U0001faa5',\n",
              " '\\U0001faa5',\n",
              " '\\U0001faa5',\n",
              " '\\U0001faa5',\n",
              " '\\U0001faa5',\n",
              " '\\U0001faa5',\n",
              " '\\U0001faa5',\n",
              " '\\U0001faa5',\n",
              " '\\U0001faa5',\n",
              " '\\U0001faa5',\n",
              " '\\U0001faa5',\n",
              " '\\U0001faa5',\n",
              " '\\U0001faa5',\n",
              " '\\U0001faa5',\n",
              " '\\U0001faa5',\n",
              " '\\U0001faa5',\n",
              " '\\U0001faa5',\n",
              " '\\U0001faa5',\n",
              " '\\U0001faa5',\n",
              " '\\U0001faa5',\n",
              " '\\U0001faa5',\n",
              " '\\U0001faa5',\n",
              " '\\U0001faa5',\n",
              " '\\U0001faa5',\n",
              " '\\U0001faa5',\n",
              " '\\U0001faa5',\n",
              " '\\U0001faa5',\n",
              " '\\U0001faa5',\n",
              " '\\U0001faa5',\n",
              " '\\U0001faa5',\n",
              " '\\U0001faa5',\n",
              " '\\U0001faa5',\n",
              " '\\U0001faa5',\n",
              " '\\U0001faa5',\n",
              " '\\U0001faa5',\n",
              " '\\U0001faa5',\n",
              " '\\U0001faa5',\n",
              " '\\U0001faa5',\n",
              " '\\U0001faa5',\n",
              " '\\U0001faa5',\n",
              " '\\U0001faa5',\n",
              " '\\U0001faa5',\n",
              " '\\U0001faa5',\n",
              " '\\U0001faa5',\n",
              " '\\U0001faa5',\n",
              " '\\U0001faa5',\n",
              " '\\U0001faa5',\n",
              " '\\U0001faa5',\n",
              " '\\U0001faa5',\n",
              " '\\U0001faa5',\n",
              " '\\U0001faa5',\n",
              " '\\U0001faa5',\n",
              " '\\U0001faa5',\n",
              " '\\U0001faa5',\n",
              " '\\U0001faa5',\n",
              " '\\U0001faa5',\n",
              " '\\U0001faa5',\n",
              " '\\U0001faa5',\n",
              " '\\U0001faa5',\n",
              " '\\U0001faa5',\n",
              " '\\U0001faa5',\n",
              " '\\U0001faa5',\n",
              " '\\U0001faa5',\n",
              " '\\U0001faa5',\n",
              " '\\U0001faa5',\n",
              " '\\U0001faa5',\n",
              " '\\U0001faa5',\n",
              " '\\U0001faa5',\n",
              " '\\U0001faa5',\n",
              " '\\U0001faa5',\n",
              " '\\U0001faa5',\n",
              " '\\U0001faa5',\n",
              " '\\U0001faa5',\n",
              " '\\U0001faa5',\n",
              " '\\U0001faa5',\n",
              " '\\U0001faa5',\n",
              " '\\U0001faa5',\n",
              " '\\U0001faa5',\n",
              " '\\U0001faa5',\n",
              " '\\U0001faa5',\n",
              " '\\U0001faa5',\n",
              " '\\U0001faa5',\n",
              " '\\U0001faa5',\n",
              " '\\U0001faa5',\n",
              " '\\U0001faa5',\n",
              " '\\U0001faa5',\n",
              " '\\U0001faa5',\n",
              " '\\U0001faa5',\n",
              " '\\U0001faa5',\n",
              " '\\U0001faa5',\n",
              " '\\U0001faa5',\n",
              " '\\U0001faa5',\n",
              " '\\U0001faa5',\n",
              " '\\U0001faa5',\n",
              " '\\U0001faa5',\n",
              " '\\U0001faa5',\n",
              " '\\U0001faa5',\n",
              " '\\U0001faa5',\n",
              " '\\U0001faa5',\n",
              " '\\U0001faa5',\n",
              " '\\U0001faa5',\n",
              " '\\U0001faa5',\n",
              " '\\U0001faa5',\n",
              " '\\U0001faa5',\n",
              " '\\U0001faa5',\n",
              " '\\U0001faa5',\n",
              " '\\U0001faa5',\n",
              " '\\U0001faa5',\n",
              " '\\U0001faa5',\n",
              " '\\U0001faa5',\n",
              " '\\U0001faa5',\n",
              " '\\U0001faa5',\n",
              " '\\U0001faa5',\n",
              " '\\U0001faa5',\n",
              " '\\U0001faa5',\n",
              " '\\U0001faa5',\n",
              " '\\U0001faa5',\n",
              " '\\U0001faa5',\n",
              " '\\U0001faa5',\n",
              " '\\U0001faa5',\n",
              " '\\U0001faa5',\n",
              " '\\U0001faa5',\n",
              " '\\U0001faa5',\n",
              " '\\U0001faa5',\n",
              " '\\U0001faa5',\n",
              " '\\U0001faa5',\n",
              " '\\U0001faa5',\n",
              " '\\U0001faa5',\n",
              " '\\U0001faa5',\n",
              " '\\U0001faa5',\n",
              " '\\U0001faa5',\n",
              " '\\U0001faa5',\n",
              " '\\U0001faa5',\n",
              " '\\U0001faa5',\n",
              " '\\U0001faa5',\n",
              " '\\U0001faa5',\n",
              " '\\U0001faa5',\n",
              " '\\U0001faa5',\n",
              " '\\U0001faa5',\n",
              " '\\U0001faa5',\n",
              " '\\U0001faa5',\n",
              " '\\U0001faa5',\n",
              " '\\U0001faa5',\n",
              " '\\U0001faa5',\n",
              " '\\U0001faa5',\n",
              " '\\U0001faa5',\n",
              " '\\U0001faa5',\n",
              " '\\U0001faa5',\n",
              " '\\U0001faa5',\n",
              " '\\U0001faa5',\n",
              " '\\U0001faa5',\n",
              " '\\U0001faa5',\n",
              " '\\U0001faa5',\n",
              " '\\U0001faa5',\n",
              " '\\U0001faa5',\n",
              " '\\U0001faa5',\n",
              " '\\U0001faa5',\n",
              " '\\U0001faa5',\n",
              " '\\U0001faa5',\n",
              " '\\U0001faa5',\n",
              " '\\U0001faa5',\n",
              " '\\U0001faa5',\n",
              " '\\U0001faa5',\n",
              " '\\U0001faa5',\n",
              " '\\U0001faa5',\n",
              " '\\U0001faa5',\n",
              " '\\U0001faa5',\n",
              " '\\U0001faa5',\n",
              " '\\U0001faa5',\n",
              " '\\U0001faa5',\n",
              " '\\U0001faa5',\n",
              " '\\U0001faa5',\n",
              " '\\U0001faa5',\n",
              " '\\U0001faa5',\n",
              " '\\U0001faa5',\n",
              " '\\U0001faa5',\n",
              " '\\U0001faa5',\n",
              " '\\U0001faa5',\n",
              " '\\U0001faa5',\n",
              " '\\U0001faa5',\n",
              " '\\U0001faa5',\n",
              " '\\U0001faa5',\n",
              " '\\U0001faa5',\n",
              " '\\U0001faa5',\n",
              " '\\U0001faa5',\n",
              " '\\U0001faa5',\n",
              " '\\U0001faa5',\n",
              " '\\U0001faa5',\n",
              " '\\U0001faa5',\n",
              " '\\U0001faa5',\n",
              " '\\U0001faa5',\n",
              " '\\U0001faa5',\n",
              " '\\U0001faa5',\n",
              " '\\U0001faa5',\n",
              " '\\U0001faa5',\n",
              " '\\U0001faa5',\n",
              " '\\U0001faa5',\n",
              " '\\U0001faa5',\n",
              " '\\U0001faa5',\n",
              " '\\U0001faa5',\n",
              " '\\U0001faa5',\n",
              " '\\U0001faa5',\n",
              " '\\U0001faa5',\n",
              " '\\U0001faa5',\n",
              " '\\U0001faa5',\n",
              " '\\U0001faa5',\n",
              " '\\U0001faa5',\n",
              " '\\U0001faa5',\n",
              " '\\U0001faa5',\n",
              " '\\U0001faa5',\n",
              " '\\U0001faa5',\n",
              " '\\U0001faa5',\n",
              " '\\U0001faa5',\n",
              " '\\U0001faa5',\n",
              " '\\U0001faa5',\n",
              " '\\U0001faa5',\n",
              " '\\U0001faa5',\n",
              " '\\U0001faa5',\n",
              " '\\U0001faa5',\n",
              " '\\U0001faa5',\n",
              " '\\U0001faa5',\n",
              " '\\U0001faa5',\n",
              " '\\U0001faa5',\n",
              " '\\U0001faa5',\n",
              " '\\U0001faa5',\n",
              " '\\U0001faa5',\n",
              " '\\U0001faa5',\n",
              " '\\U0001faa5',\n",
              " '\\U0001faa5',\n",
              " '\\U0001faa5',\n",
              " '\\U0001faa5',\n",
              " '\\U0001faa5',\n",
              " '\\U0001faa5',\n",
              " '\\U0001faa5',\n",
              " '\\U0001faa5',\n",
              " '\\U0001faa5',\n",
              " '\\U0001faa5',\n",
              " '\\U0001faa5',\n",
              " '\\U0001faa5',\n",
              " '\\U0001faa5',\n",
              " '\\U0001faa5',\n",
              " '\\U0001faa5',\n",
              " '\\U0001faa5',\n",
              " '\\U0001faa5',\n",
              " '\\U0001faa5',\n",
              " '\\U0001faa5',\n",
              " '\\U0001faa5',\n",
              " '\\U0001faa5',\n",
              " '\\U0001faa5',\n",
              " '\\U0001faa5',\n",
              " '\\U0001faa5',\n",
              " '\\U0001faa5',\n",
              " '\\U0001faa5',\n",
              " '\\U0001faa5',\n",
              " '\\U0001faa5',\n",
              " '\\U0001faa5',\n",
              " '\\U0001faa5',\n",
              " '\\U0001faa5',\n",
              " '\\U0001faa5',\n",
              " '\\U0001faa5',\n",
              " '\\U0001faa5',\n",
              " '\\U0001faa5',\n",
              " '\\U0001faa5',\n",
              " '\\U0001faa5',\n",
              " '\\U0001faa5',\n",
              " '\\U0001faa5',\n",
              " '\\U0001faa5',\n",
              " '\\U0001faa5',\n",
              " '\\U0001faa5',\n",
              " '\\U0001faa5',\n",
              " '\\U0001faa5',\n",
              " '\\U0001faa5',\n",
              " '\\U0001faa5',\n",
              " '\\U0001faa5',\n",
              " '\\U0001faa5',\n",
              " '\\U0001faa5',\n",
              " '\\U0001faa5',\n",
              " '\\U0001faa5',\n",
              " '\\U0001faa5',\n",
              " '\\U0001faa5',\n",
              " '\\U0001faa5',\n",
              " '\\U0001faa5',\n",
              " '\\U0001faa5',\n",
              " '\\U0001faa5',\n",
              " '\\U0001faa5',\n",
              " '\\U0001faa5',\n",
              " '\\U0001faa5',\n",
              " '\\U0001faa5',\n",
              " '\\U0001faa5',\n",
              " '\\U0001faa5',\n",
              " '\\U0001faa5',\n",
              " '\\U0001faa5',\n",
              " '\\U0001faa5',\n",
              " '\\U0001faa5',\n",
              " '\\U0001faa5',\n",
              " '\\U0001faa5',\n",
              " '\\U0001faa5',\n",
              " '\\U0001faa5',\n",
              " '\\U0001faa5',\n",
              " '\\U0001faa5',\n",
              " '\\U0001faa5',\n",
              " '\\U0001faa5',\n",
              " '\\U0001faa5',\n",
              " '\\U0001faa5',\n",
              " '\\U0001faa5',\n",
              " '\\U0001faa5',\n",
              " '\\U0001faa5',\n",
              " '\\U0001faa5',\n",
              " '\\U0001faa5',\n",
              " '\\U0001faa5',\n",
              " '\\U0001faa5',\n",
              " '\\U0001faa5',\n",
              " '\\U0001faa5',\n",
              " '\\U0001faa5',\n",
              " '\\U0001faa5',\n",
              " '\\U0001faa5',\n",
              " '\\U0001faa5',\n",
              " '\\U0001faa5',\n",
              " '\\U0001faa5',\n",
              " '\\U0001faa5',\n",
              " '\\U0001faa5',\n",
              " '\\U0001faa5',\n",
              " '\\U0001faa5',\n",
              " '\\U0001faa5',\n",
              " '\\U0001faa5',\n",
              " '\\U0001faa5',\n",
              " '\\U0001faa5',\n",
              " '\\U0001faa5',\n",
              " '\\U0001faa5',\n",
              " '\\U0001faa5',\n",
              " '\\U0001faa5',\n",
              " '\\U0001faa5',\n",
              " '\\U0001faa5',\n",
              " '\\U0001faa5',\n",
              " '\\U0001faa5',\n",
              " '\\U0001faa5',\n",
              " '\\U0001faa5',\n",
              " '\\U0001faa5',\n",
              " '\\U0001faa5',\n",
              " '\\U0001faa5',\n",
              " '\\U0001faa5',\n",
              " '\\U0001faa5',\n",
              " '\\U0001faa5',\n",
              " '\\U0001faa5',\n",
              " '\\U0001faa5',\n",
              " '\\U0001faa5',\n",
              " '\\U0001faa5',\n",
              " '\\U0001faa5',\n",
              " '\\U0001faa5',\n",
              " '\\U0001faa5',\n",
              " '\\U0001faa5',\n",
              " '\\U0001faa5',\n",
              " '\\U0001faa5',\n",
              " '\\U0001faa5',\n",
              " '\\U0001faa5',\n",
              " '\\U0001faa5',\n",
              " '\\U0001faa5',\n",
              " '\\U0001faa5',\n",
              " '\\U0001faa5',\n",
              " '\\U0001faa5',\n",
              " '\\U0001faa5',\n",
              " '\\U0001faa5',\n",
              " '\\U0001faa5',\n",
              " '\\U0001faa5',\n",
              " '\\U0001faa5',\n",
              " '\\U0001faa5',\n",
              " '\\U0001faa5',\n",
              " '\\U0001faa5',\n",
              " '\\U0001faa5',\n",
              " '\\U0001faa5',\n",
              " '\\U0001faa5',\n",
              " '\\U0001faa5',\n",
              " '\\U0001faa5',\n",
              " '\\U0001faa5',\n",
              " '\\U0001faa5',\n",
              " '\\U0001faa5',\n",
              " '\\U0001faa5',\n",
              " '\\U0001faa5',\n",
              " '\\U0001faa5',\n",
              " '\\U0001faa5',\n",
              " '\\U0001faa5',\n",
              " '\\U0001faa5',\n",
              " '\\U0001faa5',\n",
              " '\\U0001faa5',\n",
              " '\\U0001faa5',\n",
              " '\\U0001faa5',\n",
              " '\\U0001faa5',\n",
              " '\\U0001faa5',\n",
              " '\\U0001faa5',\n",
              " '\\U0001faa5',\n",
              " '\\U0001faa5',\n",
              " '\\U0001faa5',\n",
              " '\\U0001faa5',\n",
              " '\\U0001faa5',\n",
              " '\\U0001faa5',\n",
              " ...]"
            ]
          },
          "metadata": {},
          "execution_count": 51
        }
      ]
    },
    {
      "cell_type": "code",
      "metadata": {
        "id": "Axf2AJo7Izld"
      },
      "source": [
        "all_tokens = pd.Series(list(set(all_tokens)))"
      ],
      "execution_count": null,
      "outputs": []
    },
    {
      "cell_type": "code",
      "metadata": {
        "colab": {
          "base_uri": "https://localhost:8080/"
        },
        "id": "xjdly-3EJ-RY",
        "outputId": "3dc1887d-7b02-4e33-9edf-406cc3ac1f53"
      },
      "source": [
        "len(all_tokens)"
      ],
      "execution_count": null,
      "outputs": [
        {
          "output_type": "execute_result",
          "data": {
            "text/plain": [
              "1"
            ]
          },
          "metadata": {},
          "execution_count": 49
        }
      ]
    },
    {
      "cell_type": "code",
      "metadata": {
        "colab": {
          "base_uri": "https://localhost:8080/"
        },
        "id": "gMOqVVSiKDmH",
        "outputId": "ec07bec9-4cc6-4d04-f1dd-750f4b0b1c49"
      },
      "source": [
        "all_tokens"
      ],
      "execution_count": null,
      "outputs": [
        {
          "output_type": "execute_result",
          "data": {
            "text/plain": [
              "0    🪥\n",
              "dtype: object"
            ]
          },
          "metadata": {},
          "execution_count": 48
        }
      ]
    },
    {
      "cell_type": "markdown",
      "metadata": {
        "id": "gHPSXEVdGHUN"
      },
      "source": [
        "#### preprocess"
      ]
    },
    {
      "cell_type": "code",
      "metadata": {
        "id": "Jz1OS1WiDrZb"
      },
      "source": [
        "import numpy as np\n",
        "dataframe = dataframe.reset_index(drop=True)\n",
        "token2vec_np = [np.array(dataframe.token2vec[i]) for i in range (len(dataframe.token2vec))]\n",
        "X = np.array(token2vec_np)"
      ],
      "execution_count": null,
      "outputs": []
    },
    {
      "cell_type": "markdown",
      "metadata": {
        "id": "d45mzXJA4Drz"
      },
      "source": [
        ""
      ]
    },
    {
      "cell_type": "markdown",
      "metadata": {
        "id": "FpnfKIHcPY6t"
      },
      "source": [
        "### create token2vec for preprocessed_tokens column"
      ]
    },
    {
      "cell_type": "code",
      "metadata": {
        "id": "dV9p-LvlWQQ0"
      },
      "source": [
        "query_popularity['word2vec_ru_fasttext'] = query_popularity['preprocessed_tokens']"
      ],
      "execution_count": null,
      "outputs": []
    },
    {
      "cell_type": "code",
      "metadata": {
        "colab": {
          "base_uri": "https://localhost:8080/"
        },
        "id": "wlnJAdk3XECn",
        "outputId": "f3e84c34-3d5d-4053-fa52-a21d15df2364"
      },
      "source": [
        "query_popularity['preprocessed_tokens'][14]"
      ],
      "execution_count": null,
      "outputs": [
        {
          "output_type": "execute_result",
          "data": {
            "text/plain": [
              "['poco', 'f3']"
            ]
          },
          "metadata": {},
          "execution_count": 71
        }
      ]
    },
    {
      "cell_type": "code",
      "metadata": {
        "id": "zTzeaCAvU-Nj"
      },
      "source": [
        "N = len(query_popularity['preprocessed_tokens'])\n",
        "bad_words = []\n",
        "for i in range(N):\n",
        "    tokens = query_popularity['preprocessed_tokens'][i]\n",
        "  try:\n",
        "    query_popularity['word2vec_ru_fasttext'][i] = [ru_fasttext_model.get_vector(word) for word in tokens]\n",
        "  except:\n",
        "    query_popularity['word2vec_ru_fasttext'][i] = None"
      ],
      "execution_count": null,
      "outputs": []
    },
    {
      "cell_type": "code",
      "metadata": {
        "colab": {
          "base_uri": "https://localhost:8080/",
          "height": 424
        },
        "id": "fuX3ptNpFkMa",
        "outputId": "828cbef1-4d18-4278-848e-bed15638aabb"
      },
      "source": [
        "query_popularity"
      ],
      "execution_count": null,
      "outputs": [
        {
          "output_type": "execute_result",
          "data": {
            "text/html": [
              "<div>\n",
              "<style scoped>\n",
              "    .dataframe tbody tr th:only-of-type {\n",
              "        vertical-align: middle;\n",
              "    }\n",
              "\n",
              "    .dataframe tbody tr th {\n",
              "        vertical-align: top;\n",
              "    }\n",
              "\n",
              "    .dataframe thead th {\n",
              "        text-align: right;\n",
              "    }\n",
              "</style>\n",
              "<table border=\"1\" class=\"dataframe\">\n",
              "  <thead>\n",
              "    <tr style=\"text-align: right;\">\n",
              "      <th></th>\n",
              "      <th>query</th>\n",
              "      <th>query_popularity</th>\n",
              "      <th>word2vec</th>\n",
              "      <th>preprocessed_tokens</th>\n",
              "    </tr>\n",
              "  </thead>\n",
              "  <tbody>\n",
              "    <tr>\n",
              "      <th>0</th>\n",
              "      <td>ноутбук</td>\n",
              "      <td>10</td>\n",
              "      <td>[-0.31533813, 0.22640598, -0.14456888, 0.78250...</td>\n",
              "      <td>[ноутбук]</td>\n",
              "    </tr>\n",
              "    <tr>\n",
              "      <th>1</th>\n",
              "      <td>куртка женская осенняя</td>\n",
              "      <td>10</td>\n",
              "      <td>[0.12441584, 0.018864037, -0.5093914, 0.273392...</td>\n",
              "      <td>[куртка, женский, осенний]</td>\n",
              "    </tr>\n",
              "    <tr>\n",
              "      <th>2</th>\n",
              "      <td>ботинки женские</td>\n",
              "      <td>10</td>\n",
              "      <td>[0.11589693, -0.2578671, -0.5909001, -0.186843...</td>\n",
              "      <td>[ботинок, женский]</td>\n",
              "    </tr>\n",
              "    <tr>\n",
              "      <th>3</th>\n",
              "      <td>видеокарта</td>\n",
              "      <td>10</td>\n",
              "      <td>[0.68164533, 0.5142049, -0.023444502, 0.700806...</td>\n",
              "      <td>[видеокарта]</td>\n",
              "    </tr>\n",
              "    <tr>\n",
              "      <th>4</th>\n",
              "      <td>пальто женское осеннее</td>\n",
              "      <td>10</td>\n",
              "      <td>[0.45430318, 0.11048531, -0.25905058, 0.166942...</td>\n",
              "      <td>[пальто, женский, осенний]</td>\n",
              "    </tr>\n",
              "    <tr>\n",
              "      <th>...</th>\n",
              "      <td>...</td>\n",
              "      <td>...</td>\n",
              "      <td>...</td>\n",
              "      <td>...</td>\n",
              "    </tr>\n",
              "    <tr>\n",
              "      <th>336983</th>\n",
              "      <td>конструктор робо-динозавры</td>\n",
              "      <td>1</td>\n",
              "      <td>[0.22063358, -0.33766633, -0.4480671, 0.038485...</td>\n",
              "      <td>[конструктор, робо-динозавр]</td>\n",
              "    </tr>\n",
              "    <tr>\n",
              "      <th>336984</th>\n",
              "      <td>чика</td>\n",
              "      <td>1</td>\n",
              "      <td>[0.3406589, 1.006835, -0.5743846, 0.5203182, -...</td>\n",
              "      <td>[чик]</td>\n",
              "    </tr>\n",
              "    <tr>\n",
              "      <th>336985</th>\n",
              "      <td>Дешевый товар</td>\n",
              "      <td>1</td>\n",
              "      <td>[0.12944888, 0.33708918, -0.29052824, 0.028786...</td>\n",
              "      <td>[дешёвый, товар]</td>\n",
              "    </tr>\n",
              "    <tr>\n",
              "      <th>336986</th>\n",
              "      <td>макса</td>\n",
              "      <td>1</td>\n",
              "      <td>[0.3828721, 0.33940908, 0.03207649, 0.06045904...</td>\n",
              "      <td>[макс]</td>\n",
              "    </tr>\n",
              "    <tr>\n",
              "      <th>336987</th>\n",
              "      <td>чехол для телефон</td>\n",
              "      <td>1</td>\n",
              "      <td>[0.26449302, -0.12649782, -0.5638366, 0.246443...</td>\n",
              "      <td>[чехол, телефон]</td>\n",
              "    </tr>\n",
              "  </tbody>\n",
              "</table>\n",
              "<p>336987 rows × 4 columns</p>\n",
              "</div>"
            ],
            "text/plain": [
              "                             query  ...           preprocessed_tokens\n",
              "0                          ноутбук  ...                     [ноутбук]\n",
              "1           куртка женская осенняя  ...    [куртка, женский, осенний]\n",
              "2                  ботинки женские  ...            [ботинок, женский]\n",
              "3                       видеокарта  ...                  [видеокарта]\n",
              "4           пальто женское осеннее  ...    [пальто, женский, осенний]\n",
              "...                            ...  ...                           ...\n",
              "336983  конструктор робо-динозавры  ...  [конструктор, робо-динозавр]\n",
              "336984                        чика  ...                         [чик]\n",
              "336985               Дешевый товар  ...              [дешёвый, товар]\n",
              "336986                       макса  ...                        [макс]\n",
              "336987           чехол для телефон  ...              [чехол, телефон]\n",
              "\n",
              "[336987 rows x 4 columns]"
            ]
          },
          "metadata": {},
          "execution_count": 6
        }
      ]
    },
    {
      "cell_type": "code",
      "metadata": {
        "id": "ycvO503ZSS-N"
      },
      "source": [
        "query = 'очки'"
      ],
      "execution_count": null,
      "outputs": []
    },
    {
      "cell_type": "code",
      "metadata": {
        "id": "6AAQgw9XSjql"
      },
      "source": [
        "query = data_preprocessing(query)"
      ],
      "execution_count": null,
      "outputs": []
    },
    {
      "cell_type": "code",
      "metadata": {
        "colab": {
          "base_uri": "https://localhost:8080/"
        },
        "id": "cASR183NS-gs",
        "outputId": "8992a5fb-1bb8-4356-e964-f0a6602b438d"
      },
      "source": [
        "query"
      ],
      "execution_count": null,
      "outputs": [
        {
          "output_type": "execute_result",
          "data": {
            "text/plain": [
              "['очки', 'солнцезащитный']"
            ]
          },
          "metadata": {},
          "execution_count": 37
        }
      ]
    },
    {
      "cell_type": "code",
      "metadata": {
        "id": "bsY9ceBVSmd9"
      },
      "source": [
        "query2vec = [ru_fasttext_model.get_vector(word) for word in query]"
      ],
      "execution_count": null,
      "outputs": []
    },
    {
      "cell_type": "code",
      "metadata": {
        "id": "CKpFySX4TOED"
      },
      "source": [
        "tags = ru_fasttext_model.most_similar(positive=query)"
      ],
      "execution_count": null,
      "outputs": []
    },
    {
      "cell_type": "code",
      "metadata": {
        "colab": {
          "base_uri": "https://localhost:8080/"
        },
        "id": "jAsvmzf4TXHs",
        "outputId": "3d00f420-5b1b-4f6c-c58f-8765a3909fbc"
      },
      "source": [
        "ru_fasttext_model.most_similar('очки')"
      ],
      "execution_count": null,
      "outputs": [
        {
          "output_type": "execute_result",
          "data": {
            "text/plain": [
              "[('солнцезащитные', 0.7249504327774048),\n",
              " ('очков', 0.6945763826370239),\n",
              " ('очковые', 0.6848100423812866),\n",
              " ('линзы', 0.6669591069221497),\n",
              " ('шлемы', 0.6518011093139648),\n",
              " ('оправы', 0.6515406370162964),\n",
              " ('диоптриями', 0.6498522758483887),\n",
              " ('линзами', 0.6361788511276245),\n",
              " ('-очки', 0.6304699182510376),\n",
              " ('очками', 0.59984290599823)]"
            ]
          },
          "metadata": {},
          "execution_count": 43
        }
      ]
    },
    {
      "cell_type": "code",
      "metadata": {
        "colab": {
          "base_uri": "https://localhost:8080/"
        },
        "id": "QVXWRG7lUjL3",
        "outputId": "67546506-f122-4068-c9b7-2c5f152801af"
      },
      "source": [
        "query_popularity['word2vec'][0]"
      ],
      "execution_count": null,
      "outputs": [
        {
          "output_type": "execute_result",
          "data": {
            "text/plain": [
              "array([-0.31533813,  0.22640598, -0.14456888,  0.78250855,  0.5476514 ,\n",
              "       -0.04088544, -0.68912655, -0.49177408,  0.09105945, -0.43312305,\n",
              "       -0.24829242,  0.5405648 , -0.43978173,  0.74732304, -0.2860573 ,\n",
              "        0.2344339 , -0.15396622, -0.05094039,  0.45775563, -0.40490985,\n",
              "       -0.71636796, -0.6566225 ,  0.30242717,  0.25560272,  0.06083553,\n",
              "       -0.37715924,  0.6778109 , -1.5544797 , -0.5901519 , -0.08893455,\n",
              "        0.28033814, -0.2698118 , -0.4821361 , -0.9521838 , -0.6686404 ,\n",
              "       -1.0886762 ,  0.06134065,  0.11470045, -0.28851038, -0.25580743,\n",
              "        0.3800123 ,  0.5221255 ,  0.54226017,  0.60789156, -0.6147588 ,\n",
              "        0.345372  ,  0.42067587,  0.16558208,  0.20012994, -0.07414536,\n",
              "        0.20856738,  0.01317644,  0.45680052, -0.31978396, -0.66548604,\n",
              "        0.33151245,  0.25475678,  0.13717723,  0.11737997,  0.37827417,\n",
              "        0.47148255, -0.7741835 , -0.49492162, -0.33481205,  0.90838087,\n",
              "       -0.8118403 , -0.06270419,  0.09344159,  0.52947557,  0.28833932,\n",
              "       -0.4379304 , -0.36672556, -0.28567848, -0.42244393,  0.10894769,\n",
              "       -0.41749966,  0.8989605 , -0.04287351, -0.5097231 , -0.05666166,\n",
              "       -0.0608237 , -0.87420887,  0.8854082 , -0.52474874,  0.43068907,\n",
              "        0.205971  ,  0.9199746 ,  0.6898148 ,  0.19108666, -0.623624  ,\n",
              "        0.22267877, -0.44144055, -0.11156342,  0.05716191,  0.35652363,\n",
              "        0.2835534 ,  0.32969922, -0.04717074, -0.94316316, -0.41253734],\n",
              "      dtype=float32)"
            ]
          },
          "metadata": {},
          "execution_count": 53
        }
      ]
    },
    {
      "cell_type": "code",
      "metadata": {
        "colab": {
          "base_uri": "https://localhost:8080/"
        },
        "id": "9_v8VyXWUxug",
        "outputId": "2cffd759-8343-484d-e46f-f852d92a0485"
      },
      "source": [
        "query2vec[0].shape"
      ],
      "execution_count": null,
      "outputs": [
        {
          "output_type": "execute_result",
          "data": {
            "text/plain": [
              "(300,)"
            ]
          },
          "metadata": {},
          "execution_count": 57
        }
      ]
    },
    {
      "cell_type": "code",
      "metadata": {
        "colab": {
          "base_uri": "https://localhost:8080/"
        },
        "id": "qzpZo87QU1XP",
        "outputId": "f9a292ca-2e92-415a-ba00-99ad46edb3c1"
      },
      "source": [
        "vec2.shape"
      ],
      "execution_count": null,
      "outputs": [
        {
          "output_type": "execute_result",
          "data": {
            "text/plain": [
              "(100,)"
            ]
          },
          "metadata": {},
          "execution_count": 58
        }
      ]
    },
    {
      "cell_type": "code",
      "metadata": {
        "id": "h4p_hBCqTmEz"
      },
      "source": [
        "cosine_similarity = []\n",
        "for i in range(len(query_popularity['word2vec'])):\n",
        "    name = query_popularity['query'][i]\n",
        "    vec2 = query_popularity['word2vec'][i]\n",
        "    cos_sim = 1 - spatial.distance.cosine(query2vec[0], vec2)\n",
        "    cosine_similarity.append([name,vec2])"
      ],
      "execution_count": null,
      "outputs": []
    },
    {
      "cell_type": "code",
      "metadata": {
        "id": "Gu3_crESFoIQ"
      },
      "source": [
        "model1 = fasttext.load_model(\"/content/drive/MyDrive/Skoltech/Padre_Pio_XIII/WildHack/Assel_materials/fasttext_bins/ft_native_300_ru_twitter_nltk_word_tokenize.bin\")\n",
        "\n",
        "def cosine_similarity(query,df):\n",
        "\n",
        "    final_tags = []\n",
        "    query = data_preprocessing(query)\n",
        "    query2vec = ru_fasttext_model.get_vector(query)\n",
        "    # ru_fasttext_model.most_similar([ru_emb[\"кофта\"]], topn=10)\n",
        "    tags = ru_fasttext_model.most_similar(positive=query)\n",
        "    cosine_similarity = []\n",
        "    for i in range(len(df['word2vec'])):\n",
        "        name = df['query'][i]\n",
        "        vec2 = df['word2vec'][i]\n",
        "        cos_sim = 1 - spatial.distance.cosine(query, vec2)\n",
        "        cosine_similarity.append([name,])\n",
        "\n",
        "\n",
        "\n",
        "\n",
        "    return "
      ],
      "execution_count": null,
      "outputs": []
    },
    {
      "cell_type": "code",
      "metadata": {
        "id": "hRd2OE5NFzxa"
      },
      "source": [
        "query = 'праздничная кофта'"
      ],
      "execution_count": null,
      "outputs": []
    },
    {
      "cell_type": "markdown",
      "metadata": {
        "id": "eXVl1x2PPKdN"
      },
      "source": [
        "### cluster creation"
      ]
    },
    {
      "cell_type": "markdown",
      "metadata": {
        "id": "tnmBJXDK8ooQ"
      },
      "source": [
        "#### kmeans clustering"
      ]
    },
    {
      "cell_type": "code",
      "metadata": {
        "id": "_JcfKw3yLs-L"
      },
      "source": [
        "from sklearn.cluster import KMeans\n",
        "model = KMeans(n_clusters=50, random_state=0).fit(X)"
      ],
      "execution_count": null,
      "outputs": []
    },
    {
      "cell_type": "markdown",
      "metadata": {
        "id": "Z-zL-sZV8vFs"
      },
      "source": [
        "#### birch"
      ]
    },
    {
      "cell_type": "code",
      "metadata": {
        "id": "uNbjQ0QprqQW"
      },
      "source": [
        "from sklearn.cluster import Birch\n",
        "model = Birch(n_clusters=50).fit(X)"
      ],
      "execution_count": null,
      "outputs": []
    },
    {
      "cell_type": "markdown",
      "metadata": {
        "id": "su7vybLp86Gs"
      },
      "source": [
        "#### create cluster column"
      ]
    },
    {
      "cell_type": "code",
      "metadata": {
        "id": "Bv4JJfcNMJld"
      },
      "source": [
        "dataframe['cluster'] = pd.Series(np.array(model.labels_))"
      ],
      "execution_count": null,
      "outputs": []
    },
    {
      "cell_type": "code",
      "metadata": {
        "colab": {
          "base_uri": "https://localhost:8080/"
        },
        "id": "6yvSd1R9E6Q9",
        "outputId": "5b1f3425-9a48-4b52-d979-2592b987a159"
      },
      "source": [
        "dataframe.cluster.value_counts()"
      ],
      "execution_count": null,
      "outputs": [
        {
          "output_type": "execute_result",
          "data": {
            "text/plain": [
              "15    853\n",
              "3     785\n",
              "7     624\n",
              "4     590\n",
              "22    559\n",
              "6     558\n",
              "19    541\n",
              "2     498\n",
              "27    498\n",
              "25    444\n",
              "31    430\n",
              "43    420\n",
              "23    412\n",
              "18    396\n",
              "12    382\n",
              "1     377\n",
              "10    375\n",
              "26    358\n",
              "13    348\n",
              "8     343\n",
              "45    342\n",
              "5     335\n",
              "37    317\n",
              "30    316\n",
              "14    314\n",
              "35    300\n",
              "33    284\n",
              "34    271\n",
              "9     266\n",
              "49    254\n",
              "21    247\n",
              "32    236\n",
              "44    219\n",
              "28    217\n",
              "16    216\n",
              "0     191\n",
              "17    186\n",
              "20    185\n",
              "24    180\n",
              "11    174\n",
              "47    173\n",
              "29    167\n",
              "38    167\n",
              "36    160\n",
              "39    153\n",
              "42    124\n",
              "46    121\n",
              "41    117\n",
              "48    112\n",
              "40     99\n",
              "Name: cluster, dtype: int64"
            ]
          },
          "metadata": {},
          "execution_count": 16
        }
      ]
    },
    {
      "cell_type": "markdown",
      "metadata": {
        "id": "LsAFHu38PhOL"
      },
      "source": [
        "### find tags in clusters"
      ]
    },
    {
      "cell_type": "code",
      "metadata": {
        "id": "1cfbFRudKZKj"
      },
      "source": [
        "def cluster_define(model, word):\n",
        "  words = data_preprocessing(word)\n",
        "\n",
        "  words_embeddings = [ru_fasttext_model.get_vector(word) for word in words]\n",
        "  cluster_num = []\n",
        "  for emb in words_embeddings:\n",
        "    cluster_num.append(model.predict(emb.reshape(1,-1)))\n",
        "\n",
        "  return cluster_num, words, words_embeddings"
      ],
      "execution_count": null,
      "outputs": []
    },
    {
      "cell_type": "code",
      "metadata": {
        "id": "RnfGIcIrRdJ-"
      },
      "source": [
        "def find_tags(cluster_num,words,words_embeddings):\n",
        "  tags = {}\n",
        "  for i in range(len(cluster_num)):\n",
        "    tags[words[i]] = [words_embeddings[i]]\n",
        "    tags[words[i]].append(dataframe[dataframe['cluster']== cluster_num[i][0]].loc[:,['token','token2vec']])\n",
        "  return tags"
      ],
      "execution_count": null,
      "outputs": []
    },
    {
      "cell_type": "code",
      "metadata": {
        "id": "HL1AYGnlS4gq"
      },
      "source": [
        "from scipy import spatial\n",
        "\n",
        "def cosine_similarity(vec1,vec2):\n",
        "  return 1 - spatial.distance.cosine(vec1, vec2)\n",
        "\n",
        "def process_tags(tags):\n",
        "\n",
        "  for word in tags.keys():\n",
        "    word_embedding = tags[word][0]\n",
        "    df = tags[word][1]\n",
        "    df['cosine'] = df['token2vec'].apply(lambda x: cosine_similarity(word_embedding,x))\n",
        "\n",
        "    tag = np.array(df.sort_values(by='cosine',ascending=False).loc[:,'token'].head(5))\n",
        "    print(tag)\n"
      ],
      "execution_count": null,
      "outputs": []
    },
    {
      "cell_type": "code",
      "metadata": {
        "id": "CeD45c2RkanR"
      },
      "source": [
        "cluster_num,words,words_embeddings =cluster_define(brc,'кофточка нарядная')\n",
        "tags = find_tags(cluster_num,words,words_embeddings)"
      ],
      "execution_count": null,
      "outputs": []
    },
    {
      "cell_type": "code",
      "metadata": {
        "colab": {
          "base_uri": "https://localhost:8080/"
        },
        "id": "G_1r0yesjkE6",
        "outputId": "368f85b1-d72b-4434-cf60-036d359fd406"
      },
      "source": [
        "process_tags(tags)"
      ],
      "execution_count": null,
      "outputs": [
        {
          "output_type": "stream",
          "name": "stdout",
          "text": [
            "['ботитнка' 'кофта' 'вечинница' 'сладкийбокс' 'туника']\n",
            "['наружное' 'изящный' 'красивый' 'шархан' 'немой']\n"
          ]
        }
      ]
    },
    {
      "cell_type": "code",
      "metadata": {
        "id": "DMEQd62KxOqK"
      },
      "source": [
        "def give_tags(kmeans,query):\n",
        "\n",
        "  cluster_num,words,words_embeddings =cluster_define(kmeans,query)\n",
        "  tags = find_tags(cluster_num,words,words_embeddings)\n",
        "\n",
        "  return process_tags(tags)"
      ],
      "execution_count": null,
      "outputs": []
    },
    {
      "cell_type": "markdown",
      "metadata": {
        "id": "AM7MAkDwFMEk"
      },
      "source": [
        "## Final whole tag creation process. "
      ]
    },
    {
      "cell_type": "markdown",
      "metadata": {
        "id": "1o6LUy2hVEgN"
      },
      "source": [
        "To run the whole cells, you need:\n",
        "\n",
        "1. Fasttext model installation and load\n",
        "2. Pymorphy installation\n",
        "3. Load clustering model and dataframe from Github: \"assel_dataframe.pkl\",\"assel_kmeans_model.pkl\"\n",
        "\n"
      ]
    },
    {
      "cell_type": "markdown",
      "metadata": {
        "id": "4flpWLPzVzrV"
      },
      "source": [
        "#### Prestep"
      ]
    },
    {
      "cell_type": "markdown",
      "metadata": {
        "id": "Hp17m-s1Xx4z"
      },
      "source": [
        "##### Fasttext model install and load"
      ]
    },
    {
      "cell_type": "code",
      "metadata": {
        "id": "Rzn73IhNWDVo",
        "colab": {
          "base_uri": "https://localhost:8080/"
        },
        "outputId": "33ea616b-f379-4bc3-e3e0-f9d694431538"
      },
      "source": [
        "!pip install gensim"
      ],
      "execution_count": 4,
      "outputs": [
        {
          "output_type": "stream",
          "name": "stdout",
          "text": [
            "Requirement already satisfied: gensim in /usr/local/lib/python3.7/dist-packages (3.6.0)\n",
            "Requirement already satisfied: numpy>=1.11.3 in /usr/local/lib/python3.7/dist-packages (from gensim) (1.19.5)\n",
            "Requirement already satisfied: six>=1.5.0 in /usr/local/lib/python3.7/dist-packages (from gensim) (1.15.0)\n",
            "Requirement already satisfied: scipy>=0.18.1 in /usr/local/lib/python3.7/dist-packages (from gensim) (1.4.1)\n",
            "Requirement already satisfied: smart-open>=1.2.1 in /usr/local/lib/python3.7/dist-packages (from gensim) (5.2.1)\n"
          ]
        }
      ]
    },
    {
      "cell_type": "code",
      "metadata": {
        "id": "V1RHn7LSV26x",
        "colab": {
          "base_uri": "https://localhost:8080/"
        },
        "outputId": "dcd695f3-9c24-4f58-ac3b-d92385d42b92"
      },
      "source": [
        "!wget http://vectors.nlpl.eu/repository/20/214.zip\n",
        "!unzip 214.zip -d ru_fasttext_model"
      ],
      "execution_count": 5,
      "outputs": [
        {
          "output_type": "stream",
          "name": "stdout",
          "text": [
            "--2021-11-14 12:23:35--  http://vectors.nlpl.eu/repository/20/214.zip\n",
            "Resolving vectors.nlpl.eu (vectors.nlpl.eu)... 129.240.189.181\n",
            "Connecting to vectors.nlpl.eu (vectors.nlpl.eu)|129.240.189.181|:80... connected.\n",
            "HTTP request sent, awaiting response... 200 OK\n",
            "Length: 1920218982 (1.8G) [application/zip]\n",
            "Saving to: ‘214.zip’\n",
            "\n",
            "214.zip             100%[===================>]   1.79G  24.7MB/s    in 75s     \n",
            "\n",
            "2021-11-14 12:24:51 (24.3 MB/s) - ‘214.zip’ saved [1920218982/1920218982]\n",
            "\n",
            "Archive:  214.zip\n",
            "  inflating: ru_fasttext_model/meta.json  \n",
            "  inflating: ru_fasttext_model/model.model  \n",
            "  inflating: ru_fasttext_model/model.model.vectors_ngrams.npy  \n",
            "  inflating: ru_fasttext_model/model.model.vectors.npy  \n",
            "  inflating: ru_fasttext_model/model.model.vectors_vocab.npy  \n",
            "  inflating: ru_fasttext_model/README  \n"
          ]
        }
      ]
    },
    {
      "cell_type": "code",
      "metadata": {
        "id": "IjUelrciWK-A"
      },
      "source": [
        "path_to_model = 'ru_fasttext_model/model.model'"
      ],
      "execution_count": 6,
      "outputs": []
    },
    {
      "cell_type": "markdown",
      "metadata": {
        "id": "f-fIMiyfX1uv"
      },
      "source": [
        "##### Install required libraries"
      ]
    },
    {
      "cell_type": "code",
      "metadata": {
        "id": "i7mJBU6FWnGU"
      },
      "source": [
        "!pip install pymorphy2\n",
        "!pip install pickle"
      ],
      "execution_count": null,
      "outputs": []
    },
    {
      "cell_type": "markdown",
      "metadata": {
        "id": "03my79IlbG58"
      },
      "source": [
        "#### Main process"
      ]
    },
    {
      "cell_type": "code",
      "metadata": {
        "id": "B1vzRaCJcLNH"
      },
      "source": [
        "import numpy as np\n",
        "import pickle\n",
        "import pandas as pd\n",
        "import gensim\n",
        "from scipy import spatial\n",
        "from nltk.tokenize import sent_tokenize, word_tokenize\n",
        "from nltk.corpus import stopwords\n",
        "import nltk\n",
        "import pymorphy2\n",
        "nltk.download('punkt')\n",
        "nltk.download('stopwords')"
      ],
      "execution_count": 26,
      "outputs": []
    },
    {
      "cell_type": "code",
      "metadata": {
        "id": "VM2H1FGEGTIG"
      },
      "source": [
        "def data_preprocessing(text):\n",
        "\n",
        "  russian_stopwords = stopwords.words(\"russian\")\n",
        "  morph = pymorphy2.MorphAnalyzer()\n",
        "\n",
        "  text = text.lower()\n",
        "  words = word_tokenize(text, language='russian')\n",
        "  words = [word for word in words if not word in russian_stopwords]\n",
        "  words = [morph.parse(word)[0].normal_form for word in words]\n",
        "  return words\n",
        "\n",
        "def cluster_define(model, word):\n",
        "  words = data_preprocessing(word)\n",
        "\n",
        "  words_embeddings = [ru_fasttext_model.get_vector(word) for word in words]\n",
        "  cluster_num = []\n",
        "  for emb in words_embeddings:\n",
        "    cluster_num.append(model.predict(emb.reshape(1,-1)))\n",
        "\n",
        "  return cluster_num, words, words_embeddings\n",
        "\n",
        "def find_tags(cluster_num,words,words_embeddings):\n",
        "  tags = {}\n",
        "  for i in range(len(cluster_num)):\n",
        "    tags[words[i]] = [words_embeddings[i]]\n",
        "    tags[words[i]].append(dataframe[dataframe['cluster']== cluster_num[i][0]].loc[:,['token','token2vec']])\n",
        "  return tags\n",
        "\n",
        "\n",
        "def cosine_similarity(vec1,vec2):\n",
        "  return 1 - spatial.distance.cosine(vec1, vec2)\n",
        "\n",
        "def process_tags(tags):\n",
        "\n",
        "  for word in tags.keys():\n",
        "    word_embedding = tags[word][0]\n",
        "    df = tags[word][1]\n",
        "    df['cosine'] = df['token2vec'].apply(lambda x: cosine_similarity(word_embedding,x))\n",
        "\n",
        "    tag = np.array(df.sort_values(by='cosine',ascending=False).loc[:,'token'].head(5))\n",
        "    print(tag)\n",
        "\n",
        "def give_tags(model,query):\n",
        "\n",
        "  cluster_num,words,words_embeddings =cluster_define(model,query)\n",
        "  tags = find_tags(cluster_num,words,words_embeddings)\n",
        "\n",
        "  return process_tags(tags)"
      ],
      "execution_count": 23,
      "outputs": []
    },
    {
      "cell_type": "code",
      "metadata": {
        "id": "2uqrlBKGG5yk"
      },
      "source": [
        "ru_fasttext_model = gensim.models.KeyedVectors.load(path_to_model)\n",
        "dataframe = pd.read_pickle('/content/dataframe.pkl')\n",
        "model = pickle.load(open('kmeans_model.pkl', 'rb'))"
      ],
      "execution_count": 7,
      "outputs": []
    },
    {
      "cell_type": "code",
      "metadata": {
        "id": "CXJgRL6_GVqs",
        "colab": {
          "base_uri": "https://localhost:8080/"
        },
        "outputId": "a0b03ad6-798a-4d0d-ec04-bc175116ed38"
      },
      "source": [
        "tags = give_tags(model,'свитер')"
      ],
      "execution_count": 27,
      "outputs": [
        {
          "output_type": "stream",
          "name": "stdout",
          "text": [
            "['галантус' 'свитерок' 'вязаный' 'пуловер' 'джемпер']\n"
          ]
        }
      ]
    },
    {
      "cell_type": "code",
      "metadata": {
        "id": "0HSj1A9yOo6m",
        "colab": {
          "base_uri": "https://localhost:8080/"
        },
        "outputId": "ef878569-056b-4d9a-f9a6-1ea6278ee461"
      },
      "source": [
        "tags = give_tags(model,'джинсы')"
      ],
      "execution_count": 28,
      "outputs": [
        {
          "output_type": "stream",
          "name": "stdout",
          "text": [
            "['пастеризовать' 'брюки' 'шорты' 'пиджак' 'джинсовый']\n"
          ]
        }
      ]
    },
    {
      "cell_type": "code",
      "metadata": {
        "id": "MnzbbR03OrJD",
        "colab": {
          "base_uri": "https://localhost:8080/"
        },
        "outputId": "5fe74f03-2c4a-41a1-c5e7-16391e5d80b1"
      },
      "source": [
        "tags = give_tags(model,'канцелярские')"
      ],
      "execution_count": 29,
      "outputs": [
        {
          "output_type": "stream",
          "name": "stdout",
          "text": [
            "['канцелярский' 'клей-карандаш' 'бодитон' 'пенал' 'фломастер']\n"
          ]
        }
      ]
    }
  ]
}