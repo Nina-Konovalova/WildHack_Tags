{
  "nbformat": 4,
  "nbformat_minor": 0,
  "metadata": {
    "colab": {
      "name": "specifying_tag_generation_naive_clustering.ipynb\"",
      "provenance": [],
      "collapsed_sections": []
    },
    "kernelspec": {
      "name": "python3",
      "display_name": "Python 3"
    },
    "language_info": {
      "name": "python"
    }
  },
  "cells": [
    {
      "cell_type": "markdown",
      "metadata": {
        "id": "rvc8xhmchMOq"
      },
      "source": [
        "[![Open In Colab](https://colab.research.google.com/assets/colab-badge.svg)](https://colab.research.google.com/github/Nina-Konovalova/WildHack_Tags/blob/main/specifying_tag_generation_naive_clustering.ipynb)\n"
      ]
    },
    {
      "cell_type": "markdown",
      "metadata": {
        "id": "Aek5AYDAk1rB"
      },
      "source": [
        "##### Installation"
      ]
    },
    {
      "cell_type": "code",
      "metadata": {
        "colab": {
          "base_uri": "https://localhost:8080/"
        },
        "id": "NF0FsVZVk3vY",
        "outputId": "08fd0612-9188-441a-da5f-1c2285a12ae9"
      },
      "source": [
        "! pip install --upgrade spacy\n",
        "! python -m spacy download ru_core_news_lg"
      ],
      "execution_count": 2,
      "outputs": [
        {
          "output_type": "stream",
          "name": "stdout",
          "text": [
            "Successfully installed dawg-python-0.7.2 pymorphy2-0.9.1 pymorphy2-dicts-ru-2.4.417127.4579844 ru-core-news-lg-3.2.0\n",
            "\u001b[38;5;2m✔ Download and installation successful\u001b[0m\n",
            "You can now load the package via spacy.load('ru_core_news_lg')\n"
          ]
        }
      ]
    },
    {
      "cell_type": "markdown",
      "metadata": {
        "id": "9Nq0Pkw2jvxZ"
      },
      "source": [
        "##### Download"
      ]
    },
    {
      "cell_type": "code",
      "metadata": {
        "colab": {
          "base_uri": "https://localhost:8080/"
        },
        "id": "Lm-pQwymkBsC",
        "outputId": "d4939641-0440-425b-b7ff-c4881f58747f"
      },
      "source": [
        "!gdown --id 1rzGMDi2KnFwGbWrq1yKnVZeV7s4fe2AU # unique queries from dataset for product 'капри'"
      ],
      "execution_count": 7,
      "outputs": [
        {
          "output_type": "stream",
          "name": "stdout",
          "text": [
            "Downloading...\n",
            "From: https://drive.google.com/uc?id=1rzGMDi2KnFwGbWrq1yKnVZeV7s4fe2AU\n",
            "To: /content/kapri_queries_unique.csv\n",
            "\r  0% 0.00/19.7k [00:00<?, ?B/s]\r100% 19.7k/19.7k [00:00<00:00, 16.6MB/s]\n"
          ]
        }
      ]
    },
    {
      "cell_type": "markdown",
      "metadata": {
        "id": "dlTwZS0GkYOL"
      },
      "source": [
        "##### Imports"
      ]
    },
    {
      "cell_type": "code",
      "metadata": {
        "id": "mrgumouV7fKg"
      },
      "source": [
        "import json\n",
        "\n",
        "import numpy as np\n",
        "import pandas as pd\n",
        "\n",
        "from sklearn.cluster import KMeans, AgglomerativeClustering\n",
        "import spacy"
      ],
      "execution_count": 3,
      "outputs": []
    },
    {
      "cell_type": "markdown",
      "metadata": {
        "id": "shaNVBtOCn9I"
      },
      "source": [
        "##### Read data"
      ]
    },
    {
      "cell_type": "code",
      "metadata": {
        "colab": {
          "base_uri": "https://localhost:8080/",
          "height": 201
        },
        "id": "wdORy6wk3iA9",
        "outputId": "875e8d26-9d4a-47bd-d43d-8a0382fd70c2"
      },
      "source": [
        "kapri_queries = pd.read_csv('/content/kapri_queries_unique.csv')\n",
        "kapri_queries.head()"
      ],
      "execution_count": 9,
      "outputs": [
        {
          "output_type": "execute_result",
          "data": {
            "text/html": [
              "<div>\n",
              "<style scoped>\n",
              "    .dataframe tbody tr th:only-of-type {\n",
              "        vertical-align: middle;\n",
              "    }\n",
              "\n",
              "    .dataframe tbody tr th {\n",
              "        vertical-align: top;\n",
              "    }\n",
              "\n",
              "    .dataframe thead th {\n",
              "        text-align: right;\n",
              "    }\n",
              "</style>\n",
              "<table border=\"1\" class=\"dataframe\">\n",
              "  <thead>\n",
              "    <tr style=\"text-align: right;\">\n",
              "      <th></th>\n",
              "      <th>query</th>\n",
              "    </tr>\n",
              "  </thead>\n",
              "  <tbody>\n",
              "    <tr>\n",
              "      <th>0</th>\n",
              "      <td>капри джинсовые</td>\n",
              "    </tr>\n",
              "    <tr>\n",
              "      <th>1</th>\n",
              "      <td>капри женские спортивные</td>\n",
              "    </tr>\n",
              "    <tr>\n",
              "      <th>2</th>\n",
              "      <td>капри женские домашние</td>\n",
              "    </tr>\n",
              "    <tr>\n",
              "      <th>3</th>\n",
              "      <td>капри женские</td>\n",
              "    </tr>\n",
              "    <tr>\n",
              "      <th>4</th>\n",
              "      <td>капри 68 р</td>\n",
              "    </tr>\n",
              "  </tbody>\n",
              "</table>\n",
              "</div>"
            ],
            "text/plain": [
              "                      query\n",
              "0           капри джинсовые\n",
              "1  капри женские спортивные\n",
              "2    капри женские домашние\n",
              "3             капри женские\n",
              "4                капри 68 р"
            ]
          },
          "metadata": {},
          "execution_count": 9
        }
      ]
    },
    {
      "cell_type": "markdown",
      "metadata": {
        "id": "K1JqBRUG2wjL"
      },
      "source": [
        "##### Initial preprocessing"
      ]
    },
    {
      "cell_type": "code",
      "metadata": {
        "id": "aqD1O7Ay20xi"
      },
      "source": [
        "kapri_queries_clean = kapri_queries\n",
        "kapri_queries_clean['query'] = kapri_queries['query'].apply(lambda x: x.lower()) # lowercase"
      ],
      "execution_count": 94,
      "outputs": []
    },
    {
      "cell_type": "markdown",
      "metadata": {
        "id": "EbBhykf9nIJl"
      },
      "source": [
        "##### Transform queries into vectors with the use of pre-trained embeddings"
      ]
    },
    {
      "cell_type": "code",
      "metadata": {
        "id": "EJ6a5K9QISGC"
      },
      "source": [
        "nlp = spacy.load('ru_core_news_lg')"
      ],
      "execution_count": 10,
      "outputs": []
    },
    {
      "cell_type": "code",
      "metadata": {
        "colab": {
          "base_uri": "https://localhost:8080/"
        },
        "id": "PDEoRJN8reGB",
        "outputId": "22c96c1c-3d45-48c6-817a-46b0a3d72940"
      },
      "source": [
        "print(nlp.pipe_names)"
      ],
      "execution_count": 91,
      "outputs": [
        {
          "output_type": "stream",
          "name": "stdout",
          "text": [
            "['tok2vec', 'morphologizer', 'parser', 'attribute_ruler', 'lemmatizer', 'ner']\n"
          ]
        }
      ]
    },
    {
      "cell_type": "code",
      "metadata": {
        "id": "aBmOjz3kr7Mt"
      },
      "source": [
        "docs = list(nlp.pipe(kapri_queries_clean['query'].values, n_process=-1))"
      ],
      "execution_count": 97,
      "outputs": []
    },
    {
      "cell_type": "code",
      "metadata": {
        "id": "msnl08tz3c_-"
      },
      "source": [
        "X = np.array([doc.vector / doc.vector_norm for doc in docs if doc.vector_norm])\n",
        "\n",
        "model = AgglomerativeClustering(n_clusters=200, linkage=\"average\", affinity='cosine').fit(X)"
      ],
      "execution_count": 98,
      "outputs": []
    },
    {
      "cell_type": "code",
      "metadata": {
        "colab": {
          "base_uri": "https://localhost:8080/"
        },
        "id": "OtSCqZlJ5idw",
        "outputId": "2ec908b1-320f-4dca-9eda-aaae0883cf70"
      },
      "source": [
        "model.labels_"
      ],
      "execution_count": 99,
      "outputs": [
        {
          "output_type": "execute_result",
          "data": {
            "text/plain": [
              "array([  6,   4,  27,   4, 155,   4, 184, 168,  64,   4,  23,  27,  36,\n",
              "         4,  36,  58,  80,   4,   4,  24,   4,  11,  11, 193,   4,  90,\n",
              "        48,  18, 151,  41,  35, 199,  10, 114,  36, 174,  72, 105,  28,\n",
              "        10, 158, 141, 167,   3,  46,  44,  10,  14,   4, 133,  90,   4,\n",
              "       159,  27,  52,   0,   3, 164,  17,  17,   4,   4, 112,   0,  37,\n",
              "         4,   3,   2,  90,   1,   3,   3,  25, 185, 127,   3,   4,  80,\n",
              "        80,  24,   7,  45,   9,   4,  10,   1, 143,  41,   9,   9,   9,\n",
              "       148,  27, 145,   3,  80,  33,  99, 189,  40,  39,  26, 103,  20,\n",
              "       181, 183, 138, 134,   4, 152, 129,  23, 120,  80,  83,  10,  48,\n",
              "        45,   4, 144,   4,   4, 139,   3,   3,   4,  38, 190, 135,   3,\n",
              "         3,  74, 140, 156,  30, 179,   4, 176,   3, 161,   3,   4,   4,\n",
              "         4,   4,  76,  17,   4,   4,  25,  27,  52,  10,  10,  70, 194,\n",
              "       192, 160,   2,   4,  12, 111,   4,   3,  17,   3, 169,   4, 175,\n",
              "         2,  10,  70,  52,  50,   3, 131,   4,   4,   4,  64,  64,  31,\n",
              "        72,  25,  52,  35, 132,   6,  10,  42,   1,   4,  41,  44,   4,\n",
              "        56, 191, 137, 171, 136, 110,   4,  21,   4,   1,   3,   3, 147,\n",
              "        66,  31,  18, 157, 115,  37,  91,  14,  37, 182,   3,   4,   4,\n",
              "         4, 123,  29, 121,  36,  90, 172,   4,   0,  41,  26, 142, 142,\n",
              "       118,  65,   3, 187,  73, 100,  56, 126, 107,   3,  30, 173,  95,\n",
              "        46,   4,   4, 188, 124, 125,   3, 153,   4, 141,  44,  22,  36,\n",
              "         4,   4,  58,  13,   4,  33, 130,  41,  15, 108,  75, 163,  80,\n",
              "       142,  40,  77,  76,   4,   4,   3,  13,  58,  36,  10,   3,  36,\n",
              "         3,  67,  10,  53,  69,   4, 119,  38,  61,   3, 195, 197,  80,\n",
              "         3,   1,  38,  27,   3,  44,  74, 146,  10,   4,   6,  32,  55,\n",
              "       180,  10,   4,  89,  10, 101,  19, 198, 177,   2,  54,  54, 116,\n",
              "         3,  77,   7,   4,   4,  27,  60,  94,   4,  27,  27, 102, 170,\n",
              "       162,  60,  78,  16, 122, 109,  84,  44,   4,  10,  10,  96,   4,\n",
              "       166,  23, 178,  22, 106, 196, 110,   3, 110,   8,   4,  59,  39,\n",
              "         4,  12,   5,   5, 117,  80,  10,   4,  10,  93,   4, 128,  36,\n",
              "        19,  20,  54,  36,   3,  24, 104,  63,  50,   4, 165,  49,  42,\n",
              "         3,   8,   3,   0,  21,   0,   3,   4,  85,  14,   2,  10,  59,\n",
              "         8,  10, 113,  83,  27,  68,   1,  15,  74, 154,  74,  44,  28,\n",
              "        28,  28,  98, 186,  51,  62,  88,  47,  80,  39,   3,  79,  36,\n",
              "        37,  82,  87,  10,  34,  71,  34,  81,  34,   3,  16, 149,  27,\n",
              "       150,   3,   6,  36,  92,  97,   4,  86,  43,  39, 118,  29,  57,\n",
              "         3,  40,  29,   1,  10,  26,  31,  13])"
            ]
          },
          "metadata": {},
          "execution_count": 99
        }
      ]
    },
    {
      "cell_type": "code",
      "metadata": {
        "colab": {
          "base_uri": "https://localhost:8080/"
        },
        "id": "3wD9aibWxbDF",
        "outputId": "2772e44c-2657-44de-d04f-9a28b410e6a9"
      },
      "source": [
        "sizes = [(i, sum(model.labels_ == i)) for i in range(100)]\n",
        "sorted(sizes, key=lambda x: x[1], reverse=True)[:5]"
      ],
      "execution_count": 100,
      "outputs": [
        {
          "output_type": "execute_result",
          "data": {
            "text/plain": [
              "[(4, 65), (3, 38), (10, 22), (27, 11), (36, 11)]"
            ]
          },
          "metadata": {},
          "execution_count": 100
        }
      ]
    },
    {
      "cell_type": "code",
      "metadata": {
        "colab": {
          "base_uri": "https://localhost:8080/"
        },
        "id": "OiEqtAf75nCT",
        "outputId": "921d34a3-eab9-4ffb-a9ce-f9fea2683506"
      },
      "source": [
        "cluster_i = 27\n",
        "print(f'Cluster {cluster_i} with size {sum(model.labels_ == cluster_i)}:')\n",
        "sorted(np.array([str(doc) for doc in docs if doc.vector_norm])[model.labels_ == cluster_i])"
      ],
      "execution_count": 106,
      "outputs": [
        {
          "output_type": "stream",
          "name": "stdout",
          "text": [
            "Cluster 27 with size 11:\n"
          ]
        },
        {
          "output_type": "execute_result",
          "data": {
            "text/plain": [
              "['бриджи капри домашние',\n",
              " 'брюки капри домашние',\n",
              " 'домашние капри женские',\n",
              " 'капри домашние',\n",
              " 'капри домашние мужские',\n",
              " 'капри домашние трикотажные',\n",
              " 'капри женские домашние',\n",
              " 'капри женскиееапри домашние',\n",
              " 'капри легенцы домашние',\n",
              " 'капри мужские домашние',\n",
              " 'капри трикотаж домашние']"
            ]
          },
          "metadata": {},
          "execution_count": 106
        }
      ]
    },
    {
      "cell_type": "code",
      "metadata": {
        "id": "HIL9mU5bj25C"
      },
      "source": [
        ""
      ],
      "execution_count": null,
      "outputs": []
    }
  ]
}