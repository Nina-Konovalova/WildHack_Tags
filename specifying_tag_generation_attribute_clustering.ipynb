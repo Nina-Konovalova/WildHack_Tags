{
  "nbformat": 4,
  "nbformat_minor": 0,
  "metadata": {
    "colab": {
      "name": "specifying_tag_generation_attribute_clustering.ipynb",
      "provenance": [],
      "collapsed_sections": []
    },
    "kernelspec": {
      "name": "python3",
      "display_name": "Python 3"
    },
    "language_info": {
      "name": "python"
    }
  },
  "cells": [
    {
      "cell_type": "markdown",
      "metadata": {
        "id": "NzfvCxz3FUZg"
      },
      "source": [
        "[![Open In Colab](https://colab.research.google.com/assets/colab-badge.svg)](https://colab.research.google.com/github/Nina-Konovalova/WildHack_Tags/blob/main/specifying_tag_generation_attribute_clustering.ipynb)"
      ]
    },
    {
      "cell_type": "markdown",
      "metadata": {
        "id": "AuAz3mDNFa70"
      },
      "source": [
        "##### Installation"
      ]
    },
    {
      "cell_type": "code",
      "metadata": {
        "colab": {
          "base_uri": "https://localhost:8080/"
        },
        "id": "_eDBy37RFeEi",
        "outputId": "142b9d1c-08a6-40ec-9e0c-d73e9f55be16"
      },
      "source": [
        "! pip install --upgrade spacy\n",
        "! python -m spacy download ru_core_news_lg"
      ],
      "execution_count": 1,
      "outputs": [
        {
          "output_type": "stream",
          "name": "stdout",
          "text": [
            "Installing collected packages: pymorphy2-dicts-ru, dawg-python, pymorphy2, ru-core-news-lg\n",
            "Successfully installed dawg-python-0.7.2 pymorphy2-0.9.1 pymorphy2-dicts-ru-2.4.417127.4579844 ru-core-news-lg-3.2.0\n",
            "\u001b[38;5;2m✔ Download and installation successful\u001b[0m\n",
            "You can now load the package via spacy.load('ru_core_news_lg')\n"
          ]
        }
      ]
    },
    {
      "cell_type": "markdown",
      "metadata": {
        "id": "Dexr8zqHFrW5"
      },
      "source": [
        "##### Download"
      ]
    },
    {
      "cell_type": "code",
      "metadata": {
        "id": "mrgumouV7fKg",
        "colab": {
          "base_uri": "https://localhost:8080/"
        },
        "outputId": "7591921f-6678-4a54-e9f7-1ba18767ee9f"
      },
      "source": [
        "!gdown --id 1Fxeo4ewOaqBNgOtGOE8lqnAxTlPsGi7A # scraped results for all products 'капри' and all attributes\n",
        "\n",
        "!gdown --id 1xI8vAlZQWCCR-ne1J2gX3XopuqztmRaK # scraped results for all products 'капри' and entities\n",
        "                                                                                        # 'Цвет' \n",
        "                                                                                        # 'Страна производителя' \n",
        "                                                                                        # 'Назначение' \n",
        "                                                                                        # 'Тип кармана'"
      ],
      "execution_count": 4,
      "outputs": [
        {
          "output_type": "stream",
          "name": "stdout",
          "text": [
            "Downloading...\n",
            "From: https://drive.google.com/uc?id=1Fxeo4ewOaqBNgOtGOE8lqnAxTlPsGi7A\n",
            "To: /content/kapri_product.json\n",
            "100% 1.40M/1.40M [00:00<00:00, 21.8MB/s]\n",
            "Downloading...\n",
            "From: https://drive.google.com/uc?id=1xI8vAlZQWCCR-ne1J2gX3XopuqztmRaK\n",
            "To: /content/kapri_entities.json\n",
            "100% 751k/751k [00:00<00:00, 11.7MB/s]\n"
          ]
        }
      ]
    },
    {
      "cell_type": "markdown",
      "metadata": {
        "id": "y5pgAoupS8zL"
      },
      "source": [
        "##### Imports"
      ]
    },
    {
      "cell_type": "code",
      "metadata": {
        "id": "Xy6jDyiUTFpu"
      },
      "source": [
        "import json\n",
        "from collections import Counter\n",
        "import numpy as np\n",
        "import pandas as pd\n",
        "import string\n",
        "\n",
        "from sklearn.cluster import KMeans, AgglomerativeClustering\n",
        "import spacy"
      ],
      "execution_count": 21,
      "outputs": []
    },
    {
      "cell_type": "markdown",
      "metadata": {
        "id": "fSxj7XpmUXe0"
      },
      "source": [
        "##### Scan of  attributes for product with title 'капри'"
      ]
    },
    {
      "cell_type": "code",
      "metadata": {
        "id": "eR1NtWJoCy2Q"
      },
      "source": [
        "with open('/content/kapri_product.json') as f:\n",
        "    data = json.load(f)"
      ],
      "execution_count": 7,
      "outputs": []
    },
    {
      "cell_type": "code",
      "metadata": {
        "id": "0wBAKSbHC2pr"
      },
      "source": [
        "attributes = [item['attribute'] for item in data]\n",
        "attributes = [a for item in attributes for a in item]\n",
        "attributes_cnt = Counter(attributes)\n",
        "attributes = [{\"attribute\": item, \"cnt\": attributes_cnt[item]} for item in set(attributes)]"
      ],
      "execution_count": 11,
      "outputs": []
    },
    {
      "cell_type": "code",
      "metadata": {
        "colab": {
          "base_uri": "https://localhost:8080/"
        },
        "id": "mrBTu0HNDeNH",
        "outputId": "d2ed94e1-aeb6-42e9-a341-84f5a0b6b8ed"
      },
      "source": [
        "attributes"
      ],
      "execution_count": 12,
      "outputs": [
        {
          "output_type": "execute_result",
          "data": {
            "text/plain": [
              "[{'attribute': 'Декоративные элементы', 'cnt': 737},\n",
              " {'attribute': 'Уход за вещами', 'cnt': 1232},\n",
              " {'attribute': 'Любимые герои', 'cnt': 27},\n",
              " {'attribute': 'Спортивное назначение', 'cnt': 17},\n",
              " {'attribute': 'Утеплитель', 'cnt': 25},\n",
              " {'attribute': 'Материал подкладки', 'cnt': 8},\n",
              " {'attribute': 'Рисунок', 'cnt': 381},\n",
              " {'attribute': 'Особенности модели', 'cnt': 783},\n",
              " {'attribute': 'Размер на модели', 'cnt': 591},\n",
              " {'attribute': 'Назначение', 'cnt': 1321},\n",
              " {'attribute': 'Крой', 'cnt': 1058},\n",
              " {'attribute': 'Страна производства', 'cnt': 1693},\n",
              " {'attribute': 'Параметры модели на фото (ОГ-ОТ-ОБ)', 'cnt': 171},\n",
              " {'attribute': 'Возрастная группа (лет)', 'cnt': 178},\n",
              " {'attribute': 'Тип посадки', 'cnt': 1306},\n",
              " {'attribute': 'Длина по внутреннему шву', 'cnt': 605},\n",
              " {'attribute': 'Ограничение', 'cnt': 1},\n",
              " {'attribute': 'Комплектация', 'cnt': 1774},\n",
              " {'attribute': 'Фактура материала', 'cnt': 1072},\n",
              " {'attribute': 'Тип карманов', 'cnt': 1202},\n",
              " {'attribute': 'Вид застежки', 'cnt': 1278},\n",
              " {'attribute': 'Пол', 'cnt': 1774},\n",
              " {'attribute': 'Дизайнерский эффект/модель', 'cnt': 1},\n",
              " {'attribute': 'Тип ростовки', 'cnt': 334},\n",
              " {'attribute': 'Направление', 'cnt': 542},\n",
              " {'attribute': 'Ширина низа брючин', 'cnt': 200},\n",
              " {'attribute': 'Рост модели на фото', 'cnt': 599},\n",
              " {'attribute': 'Модель брюк', 'cnt': 7},\n",
              " {'attribute': 'Модель джинсов', 'cnt': 15},\n",
              " {'attribute': 'Ширина низа', 'cnt': 349}]"
            ]
          },
          "metadata": {},
          "execution_count": 12
        }
      ]
    },
    {
      "cell_type": "markdown",
      "metadata": {
        "id": "pQjaIbIuUhJl"
      },
      "source": [
        "Let's consider those entities"
      ]
    },
    {
      "cell_type": "code",
      "metadata": {
        "id": "WxVOC4xED9N_"
      },
      "source": [
        "named_entities_ru = ['Назначение', 'Цвет', 'Страна производства', 'Тип карманов']\n",
        "named_entities_eng = ['purpose', 'color', 'country', 'pocket_type']"
      ],
      "execution_count": null,
      "outputs": []
    },
    {
      "cell_type": "markdown",
      "metadata": {
        "id": "B6fk4oSVNPGP"
      },
      "source": [
        "##### Cluster entities separately"
      ]
    },
    {
      "cell_type": "code",
      "metadata": {
        "id": "bTf0Qpw0Vwtn"
      },
      "source": [
        "nlp = spacy.load('ru_core_news_lg')"
      ],
      "execution_count": 22,
      "outputs": []
    },
    {
      "cell_type": "code",
      "metadata": {
        "id": "wP0RAY9xVOtF"
      },
      "source": [
        "with open('/content/kapri_entities.json') as f:\n",
        "    db = json.load(f)"
      ],
      "execution_count": 15,
      "outputs": []
    },
    {
      "cell_type": "markdown",
      "metadata": {
        "id": "pFhR13PEVbJ5"
      },
      "source": [
        "Страна производителя"
      ]
    },
    {
      "cell_type": "code",
      "metadata": {
        "id": "RaRflWuYNT4e",
        "colab": {
          "base_uri": "https://localhost:8080/"
        },
        "outputId": "59a73648-95d1-4eae-d52d-046215deafdc"
      },
      "source": [
        "country = [item['country'] for item in db if item['country']]\n",
        "country = list(set(country))\n",
        "country"
      ],
      "execution_count": 19,
      "outputs": [
        {
          "output_type": "execute_result",
          "data": {
            "text/plain": [
              "['Таиланд',\n",
              " 'Латвия',\n",
              " 'Индия',\n",
              " 'Бангладеш',\n",
              " 'Италия',\n",
              " 'Германия',\n",
              " 'Киргизия',\n",
              " 'Словакия',\n",
              " 'Россия',\n",
              " 'Пакистан',\n",
              " 'Греция',\n",
              " 'Индонезия',\n",
              " 'Египет',\n",
              " 'Китай',\n",
              " 'Албания',\n",
              " 'Казахстан',\n",
              " 'Испания',\n",
              " 'Вьетнам',\n",
              " 'Турция',\n",
              " 'Узбекистан',\n",
              " 'Франция',\n",
              " 'Сербия',\n",
              " 'Украина',\n",
              " 'Соединенные Штаты',\n",
              " 'Камбоджа',\n",
              " 'Румыния',\n",
              " 'Республика Македония',\n",
              " 'Тунис',\n",
              " 'Польша',\n",
              " 'Финляндия',\n",
              " 'Бразилия',\n",
              " 'Беларусь',\n",
              " 'Гонконг']"
            ]
          },
          "metadata": {},
          "execution_count": 19
        }
      ]
    },
    {
      "cell_type": "markdown",
      "metadata": {
        "id": "DChWKEeFVe2D"
      },
      "source": [
        "Цвет"
      ]
    },
    {
      "cell_type": "code",
      "metadata": {
        "id": "EjND6UtENblj",
        "colab": {
          "base_uri": "https://localhost:8080/"
        },
        "outputId": "4e771e26-ce8a-4acc-d337-1d45193fe5ae"
      },
      "source": [
        "color = [item['color'] for item in db if item['color']]\n",
        "color = [item.split(', ') for item in color if item]\n",
        "color = [i for item in color for i in item if i]\n",
        "color = list(set(color))\n",
        "color"
      ],
      "execution_count": 20,
      "outputs": [
        {
          "output_type": "execute_result",
          "data": {
            "text/plain": [
              "['бежевый',\n",
              " 'красный',\n",
              " 'серо-голубой',\n",
              " 'коричневый',\n",
              " 'розовая гвоздика',\n",
              " 'ярко-розовый',\n",
              " 'светло-коричневый',\n",
              " 'коричнево-серый',\n",
              " 'розовато-серый',\n",
              " 'оранжевый',\n",
              " 'кирпично-красный',\n",
              " 'серо-синий',\n",
              " 'светло-голубой',\n",
              " 'тускло-сиреневый',\n",
              " 'темно-оливковый',\n",
              " 'сливовый',\n",
              " 'маренго',\n",
              " 'охра',\n",
              " 'лазурный',\n",
              " 'аметистовый',\n",
              " 'серый',\n",
              " 'темно-красный',\n",
              " 'сумеречный',\n",
              " 'темно-серый меланж',\n",
              " 'алый',\n",
              " 'корица',\n",
              " 'электрик',\n",
              " 'антрацитовый',\n",
              " 'черничный',\n",
              " 'джинс',\n",
              " 'светло-фиолетовый',\n",
              " 'ванильный',\n",
              " 'розовый',\n",
              " 'коралловый',\n",
              " 'черный меланж',\n",
              " 'персиковый',\n",
              " 'желтый',\n",
              " 'лиловый',\n",
              " 'темно-бирюзовый',\n",
              " 'розово-коричневый',\n",
              " 'огненно-красный',\n",
              " 'темно-голубой',\n",
              " 'темный хаки',\n",
              " 'темная зеленая оливка',\n",
              " 'бирюзовый',\n",
              " 'темно-синий',\n",
              " 'мятный',\n",
              " 'глубокий коралловый',\n",
              " 'синяя лазурь',\n",
              " 'светло-синий',\n",
              " 'иссиня-черный',\n",
              " 'кремовый',\n",
              " 'травяной зеленый',\n",
              " 'ярко-красный',\n",
              " 'темно-фиолетовый',\n",
              " 'малиновый',\n",
              " 'салатовый',\n",
              " 'глубокий коричневый',\n",
              " 'лавандовый',\n",
              " 'оливковый',\n",
              " 'серо-бежевый',\n",
              " 'горчичный',\n",
              " 'терракотовый',\n",
              " 'тускло-розовый',\n",
              " 'малиново-красный',\n",
              " 'светло-зеленый',\n",
              " 'красно-коричневый',\n",
              " 'папоротник',\n",
              " 'темно-розовый',\n",
              " 'кукурузный',\n",
              " 'синий',\n",
              " 'темно-коричневый',\n",
              " 'молочный',\n",
              " 'голубые джинсы',\n",
              " 'cиний лён',\n",
              " 'пудровый',\n",
              " 'серо-фиолетовый',\n",
              " 'васильковый',\n",
              " 'морковный',\n",
              " 'бледно-пурпурный',\n",
              " 'серо-зеленый',\n",
              " 'телесный',\n",
              " 'бордовый',\n",
              " 'деним',\n",
              " 'сиреневый меланж',\n",
              " 'вишневый',\n",
              " 'темно-зеленый',\n",
              " 'синий серый',\n",
              " 'бледно-розовый',\n",
              " 'баклажановый',\n",
              " 'фиолетовый',\n",
              " 'светло-серый',\n",
              " 'фуксия',\n",
              " 'чернильный',\n",
              " 'зеленая оливка',\n",
              " 'синий кобальт',\n",
              " 'фиолетово-баклажанный',\n",
              " 'винный',\n",
              " 'светло-сиреневый',\n",
              " 'охотничий зеленый',\n",
              " 'золотистый',\n",
              " 'горчичный меланж',\n",
              " 'зеленое море',\n",
              " 'кофе',\n",
              " 'серо-коричневый',\n",
              " 'мокко',\n",
              " 'белый мрамор',\n",
              " 'черный графит',\n",
              " 'бледно-желтый',\n",
              " 'темно-бордовый',\n",
              " 'пыльная роза',\n",
              " 'карамельный',\n",
              " 'кофейный',\n",
              " 'слоновая кость',\n",
              " 'бело-зеленый',\n",
              " 'черный',\n",
              " 'светло-бирюзовый',\n",
              " 'капучино',\n",
              " 'антрацитово-серый',\n",
              " 'аквамариновый',\n",
              " 'черный матовый',\n",
              " 'ярко-синий',\n",
              " 'морская волна',\n",
              " 'темно-серый',\n",
              " 'cине-морской',\n",
              " 'песочный',\n",
              " 'небесно-голубой',\n",
              " 'темно-синий джинсовый',\n",
              " 'марсала',\n",
              " 'натуральный',\n",
              " 'ментол',\n",
              " 'темно-алый',\n",
              " 'темный горький шоколад',\n",
              " 'индиго',\n",
              " 'какао',\n",
              " 'серебристый',\n",
              " 'фисташковый',\n",
              " 'голубой берилл',\n",
              " 'брусничный',\n",
              " 'темно-бежевый',\n",
              " 'кофе с молоком',\n",
              " 'хаки',\n",
              " 'графит',\n",
              " 'зеленый',\n",
              " 'голубой',\n",
              " 'полынь',\n",
              " 'светло-бежевый',\n",
              " 'зеленое стекло',\n",
              " 'сиреневый',\n",
              " 'серый меланж',\n",
              " 'изумрудный',\n",
              " 'королевский синий',\n",
              " 'темно-оранжевый',\n",
              " 'лососевый',\n",
              " 'кораллово-красный',\n",
              " 'белый',\n",
              " 'шоколадный',\n",
              " 'бледно розоватый']"
            ]
          },
          "metadata": {},
          "execution_count": 20
        }
      ]
    },
    {
      "cell_type": "code",
      "metadata": {
        "colab": {
          "base_uri": "https://localhost:8080/"
        },
        "id": "YF51y5jmR933",
        "outputId": "0c1ac040-5272-433c-e1e0-6e251c44bab7"
      },
      "source": [
        "X = np.array([nlp(word).vector / nlp(word).vector_norm for word in color if nlp(word).vector_norm])\n",
        "\n",
        "color_model = AgglomerativeClustering(n_clusters=50, linkage=\"average\", affinity='cosine').fit(X)\n",
        "\n",
        "print('Labels')\n",
        "print(color_model.labels_)\n",
        "\n",
        "cluster_id = 23\n",
        "print('Cluster', cluster_id)\n",
        "np.array([word for word in color if nlp(word).vector_norm])[color_model.labels_ == cluster_id]"
      ],
      "execution_count": 30,
      "outputs": [
        {
          "output_type": "stream",
          "name": "stdout",
          "text": [
            "Labels\n",
            "[ 4  0  5  4  6  5  5  5  5  0  0  5  5  5  5  2 39 32 21 31  5  5 37 23\n",
            "  0  6 25 24 47  5 41  5  7 23  2  0  0  5  4  0  5 14  9 21  5 46  7  9\n",
            "  5  0  4  0  5  5  2 19  4  1 42  5 40 19  5  0  5  4 26  5 12  5  5 10\n",
            " 43 15  5  1  2  5  5 35  4 23  2  5  5  5  0  5 33 34  9  5 44 27  5  0\n",
            "  0 40  8  3  5 17  0  0  5  5 45 11 30 28  5  0  5 17  5  1  0  5 38  5\n",
            " 20 16  5  5 29 49 22  5 36 18  3  0 11  5 24  5  3 14 48  0  5 13  5  8\n",
            "  0 23 21  0  5  0  0 10  5]\n",
            "Cluster 23\n"
          ]
        },
        {
          "output_type": "execute_result",
          "data": {
            "text/plain": [
              "array(['темно-серый меланж', 'черный меланж', 'сиреневый меланж',\n",
              "       'серый меланж'], dtype='<U22')"
            ]
          },
          "metadata": {},
          "execution_count": 30
        }
      ]
    },
    {
      "cell_type": "code",
      "metadata": {
        "id": "uSZR8y7mN8Em"
      },
      "source": [
        "purpose = [item['purpose'] for item in db if item['purpose']]\n",
        "purpose = [''.join(',' if c in string.punctuation else c for c in item) for item in purpose if item]\n",
        "purpose = [item.split(', ') for item in purpose if item]\n",
        "purpose = [i for item in purpose for i in item if i]\n",
        "purpose = [item.split(',') for item in purpose if item]\n",
        "purpose = [i for item in purpose for i in item if i]\n",
        "purpose = list(set(purpose))"
      ],
      "execution_count": 29,
      "outputs": []
    },
    {
      "cell_type": "code",
      "metadata": {
        "colab": {
          "base_uri": "https://localhost:8080/"
        },
        "id": "wYMp0kXDSjuA",
        "outputId": "17e451d8-aa63-450b-d674-2ac256472032"
      },
      "source": [
        "X = np.array([nlp(word).vector / nlp(word).vector_norm for word in purpose if nlp(word).vector_norm])\n",
        "\n",
        "purpose_model = AgglomerativeClustering(n_clusters=50, linkage=\"average\", affinity='cosine').fit(X)\n",
        "\n",
        "print('Labels')\n",
        "print(purpose_model.labels_)\n",
        "\n",
        "cluster_id = 7\n",
        "print('Cluster', cluster_id)\n",
        "np.array([word for word in purpose if nlp(word).vector_norm])[purpose_model.labels_ == cluster_id]"
      ],
      "execution_count": 32,
      "outputs": [
        {
          "output_type": "stream",
          "name": "stdout",
          "text": [
            "Labels\n",
            "[ 5  4  1 18 22  5 16 48 12  7  0  2 43 45  7  9 39  6  4  5 47  5  5 11\n",
            "  5 10  1  5  3 12 44 34 18  1  1 31  5  0  7  2  8  8  4 22 22 32 12  4\n",
            " 49  5  0  8 28  8 34  3  9 23  4 20 21 35  7 20 19 24 10 18 15  5  2 26\n",
            "  5  7  7 25  2  3  2  1  0 33 26  5 42 27 14 41  5  5  2  5  5  5  8  2\n",
            "  4  5  4  5  5 16 30  4 29 18  9 18 36 14 15  9  4  3  1 11 25 25  4 17\n",
            " 38 18  7 18  9  5 19 37 13  5 34  5 46  6  4  9  5  2 40 13]\n",
            "Cluster 7\n"
          ]
        },
        {
          "output_type": "execute_result",
          "data": {
            "text/plain": [
              "array(['отдых', 'отдых и путешествия', 'Спорт и отдых',\n",
              "       'отдых и прогулка', 'активный отдых', 'на отдых',\n",
              "       'прогулки и отдых'], dtype='<U45')"
            ]
          },
          "metadata": {},
          "execution_count": 32
        }
      ]
    },
    {
      "cell_type": "code",
      "metadata": {
        "id": "xwiS_HgLOFqa"
      },
      "source": [
        "pocket_type = [item['pocket_type'] for item in db if item['pocket_type']]\n",
        "pocket_type = [item.split('; ') for item in pocket_type  if item]\n",
        "pocket_type = [i for item in pocket_type  for i in item if i]\n",
        "pocket_type = list(set(pocket_type))"
      ],
      "execution_count": 33,
      "outputs": []
    },
    {
      "cell_type": "code",
      "metadata": {
        "colab": {
          "base_uri": "https://localhost:8080/"
        },
        "id": "yQJKYFqhS016",
        "outputId": "87e9c861-bed8-4852-d660-2b8cd9b86742"
      },
      "source": [
        "X = np.array([nlp(word).vector / nlp(word).vector_norm for word in pocket_type if nlp(word).vector_norm])\n",
        "\n",
        "pocket_type_model = AgglomerativeClustering(n_clusters=10, linkage=\"average\", affinity='cosine').fit(X)\n",
        "\n",
        "print('Labels')\n",
        "print(pocket_type_model.labels_)\n",
        "\n",
        "cluster_id = 2\n",
        "print('Cluster', cluster_id)\n",
        "np.array([word for word in pocket_type if nlp(word).vector_norm])[pocket_type_model.labels_ == cluster_id]"
      ],
      "execution_count": 37,
      "outputs": [
        {
          "output_type": "stream",
          "name": "stdout",
          "text": [
            "Labels\n",
            "[1 9 1 2 1 2 0 1 2 1 0 1 1 5 5 1 0 1 7 4 2 1 0 1 5 8 3 5 1 0 2 1 2 1 6 1 1\n",
            " 1 0]\n",
            "Cluster 2\n"
          ]
        },
        {
          "output_type": "execute_result",
          "data": {
            "text/plain": [
              "array(['в шве', 'В боковом шве штанов', 'накладной в шве',\n",
              "       'в боковах швах', 'в боковом шве', 'в шве, накладные сзади'],\n",
              "      dtype='<U32')"
            ]
          },
          "metadata": {},
          "execution_count": 37
        }
      ]
    },
    {
      "cell_type": "markdown",
      "metadata": {
        "id": "zCs8Bkj4TgtF"
      },
      "source": [
        "##### Generate top-k tags for random query from list"
      ]
    },
    {
      "cell_type": "code",
      "metadata": {
        "id": "p92eXZICTqzi"
      },
      "source": [
        "clarifying_tags = []\n",
        "for a in country:\n",
        "    clarifying_tags.append('капри ' + a)\n",
        "\n",
        "vocab = np.array([word for word in color if nlp(word).vector_norm])\n",
        "for i in range(color_model.n_clusters_):\n",
        "    t = np.random.choice(vocab[color_model.labels_ == i])\n",
        "    clarifying_tags.append('капри ' + t.lower())\n",
        "\n",
        "vocab = np.array([word for word in purpose if nlp(word).vector_norm])\n",
        "for i in range(purpose_model.n_clusters_):\n",
        "    t = np.random.choice(vocab[purpose_model.labels_ == i])\n",
        "    clarifying_tags.append('капри ' + t.lower())\n",
        "\n",
        "vocab = np.array([word for word in pocket_type if nlp(word).vector_norm])\n",
        "for i in range(pocket_type_model.n_clusters_):\n",
        "    t = np.random.choice(vocab[pocket_type_model.labels_ == i])\n",
        "    clarifying_tags.append('капри ' + t.lower())"
      ],
      "execution_count": 42,
      "outputs": []
    },
    {
      "cell_type": "code",
      "metadata": {
        "colab": {
          "base_uri": "https://localhost:8080/"
        },
        "id": "5-SejQYDVrIq",
        "outputId": "891b0da5-1294-4b30-9df9-f9c2918720a0"
      },
      "source": [
        "clarifying_tags"
      ],
      "execution_count": 43,
      "outputs": [
        {
          "output_type": "execute_result",
          "data": {
            "text/plain": [
              "['капри Таиланд',\n",
              " 'капри Латвия',\n",
              " 'капри Индия',\n",
              " 'капри Бангладеш',\n",
              " 'капри Италия',\n",
              " 'капри Германия',\n",
              " 'капри Киргизия',\n",
              " 'капри Словакия',\n",
              " 'капри Россия',\n",
              " 'капри Пакистан',\n",
              " 'капри Греция',\n",
              " 'капри Индонезия',\n",
              " 'капри Египет',\n",
              " 'капри Китай',\n",
              " 'капри Албания',\n",
              " 'капри Казахстан',\n",
              " 'капри Испания',\n",
              " 'капри Вьетнам',\n",
              " 'капри Турция',\n",
              " 'капри Узбекистан',\n",
              " 'капри Франция',\n",
              " 'капри Сербия',\n",
              " 'капри Украина',\n",
              " 'капри Соединенные Штаты',\n",
              " 'капри Камбоджа',\n",
              " 'капри Румыния',\n",
              " 'капри Республика Македония',\n",
              " 'капри Тунис',\n",
              " 'капри Польша',\n",
              " 'капри Финляндия',\n",
              " 'капри Бразилия',\n",
              " 'капри Беларусь',\n",
              " 'капри Гонконг',\n",
              " 'капри черный матовый',\n",
              " 'капри лавандовый',\n",
              " 'капри морковный',\n",
              " 'капри кофе с молоком',\n",
              " 'капри кремовый',\n",
              " 'капри темно-коричневый',\n",
              " 'капри розовая гвоздика',\n",
              " 'капри коралловый',\n",
              " 'капри зеленое море',\n",
              " 'капри зеленая оливка',\n",
              " 'капри шоколадный',\n",
              " 'капри фисташковый',\n",
              " 'капри кукурузный',\n",
              " 'капри полынь',\n",
              " 'капри темный хаки',\n",
              " 'капри cиний лён',\n",
              " 'капри песочный',\n",
              " 'капри мокко',\n",
              " 'капри индиго',\n",
              " 'капри салатовый',\n",
              " 'капри cине-морской',\n",
              " 'капри изумрудный',\n",
              " 'капри ментол',\n",
              " 'капри черный меланж',\n",
              " 'капри черничный',\n",
              " 'капри электрик',\n",
              " 'капри папоротник',\n",
              " 'капри винный',\n",
              " 'капри слоновая кость',\n",
              " 'капри марсала',\n",
              " 'капри кофейный',\n",
              " 'капри аметистовый',\n",
              " 'капри охра',\n",
              " 'капри фуксия',\n",
              " 'капри чернильный',\n",
              " 'капри телесный',\n",
              " 'капри темный горький шоколад',\n",
              " 'капри сумеречный',\n",
              " 'капри морская волна',\n",
              " 'капри маренго',\n",
              " 'капри горчичный',\n",
              " 'капри ванильный',\n",
              " 'капри оливковый',\n",
              " 'капри голубые джинсы',\n",
              " 'капри фиолетово-баклажанный',\n",
              " 'капри пыльная роза',\n",
              " 'капри мятный',\n",
              " 'капри джинс',\n",
              " 'капри графит',\n",
              " 'капри натуральный',\n",
              " 'капри праздничный',\n",
              " 'капри бриджи женские летние',\n",
              " 'капри большие размеры ',\n",
              " 'капри на каждый день',\n",
              " 'капри на природу',\n",
              " 'капри для отдыха',\n",
              " 'капри гимнастика',\n",
              " 'капри отдых и путешествия',\n",
              " 'капри спорт и активные игры',\n",
              " 'капри повседневная для прогулок',\n",
              " 'капри повседневная носка',\n",
              " 'капри театр',\n",
              " 'капри ежедневное пользование',\n",
              " 'капри базовая модель',\n",
              " 'капри повседневный стиль',\n",
              " 'капри повседневные ',\n",
              " 'капри подарок',\n",
              " 'капри танцы',\n",
              " 'капри домашняя одежда',\n",
              " 'капри фитнес',\n",
              " 'капри повседневная',\n",
              " 'капри базовая капсула',\n",
              " 'капри офис',\n",
              " 'капри баскетбол',\n",
              " 'капри домашняя одежа',\n",
              " 'капри в гости',\n",
              " 'капри капри летние',\n",
              " 'капри на выход',\n",
              " 'капри работа',\n",
              " 'капри пляж',\n",
              " 'капри бег',\n",
              " 'капри школа',\n",
              " 'капри корректирующий эффект',\n",
              " 'капри деловых встреч',\n",
              " 'капри повседневное',\n",
              " 'капри беременным',\n",
              " 'капри вечерняя мода',\n",
              " 'капри йога',\n",
              " 'капри прогулка',\n",
              " 'капри невысоким',\n",
              " 'капри спортивный',\n",
              " 'капри будущие мамы',\n",
              " 'капри нарядное',\n",
              " 'капри для невысоких',\n",
              " 'капри casual',\n",
              " 'капри пляжная',\n",
              " 'капри ресторан',\n",
              " 'капри для девушек',\n",
              " 'капри летнее',\n",
              " 'капри свидание',\n",
              " 'капри прорезные с отрезным бочком',\n",
              " 'капри карманы по бокам',\n",
              " 'капри в боковом шве штанов',\n",
              " 'капри подрезной бочок',\n",
              " 'капри вшитые',\n",
              " 'капри боковые',\n",
              " 'капри накладные',\n",
              " 'капри врезные на молнии',\n",
              " 'капри карманы отсутствуют',\n",
              " 'капри карманы сбоку']"
            ]
          },
          "metadata": {},
          "execution_count": 43
        }
      ]
    },
    {
      "cell_type": "code",
      "metadata": {
        "id": "HIL9mU5bj25C",
        "colab": {
          "base_uri": "https://localhost:8080/"
        },
        "outputId": "0994fdf2-c0d4-4776-e3c7-bd793a86c586"
      },
      "source": [
        "query = 'капри и блузка летние'\n",
        "def choose_top_k(tags, k=7):\n",
        "    # the most similar\n",
        "    return np.random.choice(tags, k)\n",
        "\n",
        "'Query', query, 'Clarifying_tags', *choose_top_k(clarifying_tags)"
      ],
      "execution_count": 55,
      "outputs": [
        {
          "output_type": "execute_result",
          "data": {
            "text/plain": [
              "('Query',\n",
              " 'капри и блузка летние',\n",
              " 'Clarifying_tags',\n",
              " 'капри Соединенные Штаты',\n",
              " 'капри Индия',\n",
              " 'капри бег',\n",
              " 'капри большие размеры ',\n",
              " 'капри фуксия',\n",
              " 'капри Албания',\n",
              " 'капри карманы сбоку')"
            ]
          },
          "metadata": {},
          "execution_count": 55
        }
      ]
    },
    {
      "cell_type": "code",
      "metadata": {
        "id": "nuAh45d9X_pR"
      },
      "source": [
        ""
      ],
      "execution_count": null,
      "outputs": []
    }
  ]
}